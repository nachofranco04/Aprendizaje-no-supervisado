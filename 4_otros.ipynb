{
 "cells": [
  {
   "cell_type": "markdown",
   "id": "885cab90-e7b2-42b9-b8fc-bf0388263a8f",
   "metadata": {},
   "source": [
    "# Tarea 5"
   ]
  },
  {
   "cell_type": "markdown",
   "id": "24d7f960-3054-4b0e-9bbc-45a9f2251458",
   "metadata": {},
   "source": [
    "## Tarea 5.1"
   ]
  },
  {
   "cell_type": "code",
   "execution_count": 1,
   "id": "33ff254d-164b-44b6-9606-bff36377811e",
   "metadata": {
    "scrolled": true
   },
   "outputs": [
    {
     "data": {
      "text/html": [
       "<div>\n",
       "<style scoped>\n",
       "    .dataframe tbody tr th:only-of-type {\n",
       "        vertical-align: middle;\n",
       "    }\n",
       "\n",
       "    .dataframe tbody tr th {\n",
       "        vertical-align: top;\n",
       "    }\n",
       "\n",
       "    .dataframe thead th {\n",
       "        text-align: right;\n",
       "    }\n",
       "</style>\n",
       "<table border=\"1\" class=\"dataframe\">\n",
       "  <thead>\n",
       "    <tr style=\"text-align: right;\">\n",
       "      <th></th>\n",
       "      <th>num_expediente</th>\n",
       "      <th>fecha</th>\n",
       "      <th>hora</th>\n",
       "      <th>localizacion</th>\n",
       "      <th>distrito</th>\n",
       "      <th>tipo_accidente</th>\n",
       "      <th>estado_meteorológico</th>\n",
       "      <th>tipo_vehiculo</th>\n",
       "      <th>tipo_persona</th>\n",
       "      <th>rango_edad</th>\n",
       "      <th>...</th>\n",
       "      <th>rango_edad_Menor de 5 años</th>\n",
       "      <th>rango_edad_Más de 74 años</th>\n",
       "      <th>lesividad_Asistencia sanitaria ambulatoria con posterioridad</th>\n",
       "      <th>lesividad_Asistencia sanitaria inmediata en centro de salud o mutua</th>\n",
       "      <th>lesividad_Asistencia sanitaria sólo en el lugar del accidente</th>\n",
       "      <th>lesividad_Atención en urgencias sin posterior ingreso</th>\n",
       "      <th>lesividad_Fallecido 24 horas</th>\n",
       "      <th>lesividad_Ingreso inferior o igual a 24 horas</th>\n",
       "      <th>lesividad_Ingreso superior a 24 horas</th>\n",
       "      <th>lesividad_Sin asistencia sanitaria</th>\n",
       "    </tr>\n",
       "  </thead>\n",
       "  <tbody>\n",
       "    <tr>\n",
       "      <th>0</th>\n",
       "      <td>2023S040280</td>\n",
       "      <td>2024-01-04</td>\n",
       "      <td>14:09:00</td>\n",
       "      <td>AVDA. NICETO ALCALA ZAMORA / AUTOV. M-11</td>\n",
       "      <td>HORTALEZA</td>\n",
       "      <td>Colisión doble</td>\n",
       "      <td>Lluvia débil</td>\n",
       "      <td>Motocicleta &gt; 125cc</td>\n",
       "      <td>Conductor</td>\n",
       "      <td>De 55 a 59 años</td>\n",
       "      <td>...</td>\n",
       "      <td>0</td>\n",
       "      <td>0</td>\n",
       "      <td>0</td>\n",
       "      <td>0</td>\n",
       "      <td>0</td>\n",
       "      <td>0</td>\n",
       "      <td>0</td>\n",
       "      <td>1</td>\n",
       "      <td>0</td>\n",
       "      <td>0</td>\n",
       "    </tr>\n",
       "    <tr>\n",
       "      <th>1</th>\n",
       "      <td>2023S040280</td>\n",
       "      <td>2024-01-04</td>\n",
       "      <td>14:09:00</td>\n",
       "      <td>AVDA. NICETO ALCALA ZAMORA / AUTOV. M-11</td>\n",
       "      <td>HORTALEZA</td>\n",
       "      <td>Colisión doble</td>\n",
       "      <td>Lluvia débil</td>\n",
       "      <td>Turismo</td>\n",
       "      <td>Conductor</td>\n",
       "      <td>De 55 a 59 años</td>\n",
       "      <td>...</td>\n",
       "      <td>0</td>\n",
       "      <td>0</td>\n",
       "      <td>0</td>\n",
       "      <td>0</td>\n",
       "      <td>0</td>\n",
       "      <td>0</td>\n",
       "      <td>0</td>\n",
       "      <td>0</td>\n",
       "      <td>0</td>\n",
       "      <td>1</td>\n",
       "    </tr>\n",
       "    <tr>\n",
       "      <th>2</th>\n",
       "      <td>2023S040309</td>\n",
       "      <td>2024-02-15</td>\n",
       "      <td>14:05:00</td>\n",
       "      <td>CALL. TESORO / CALL. MINAS</td>\n",
       "      <td>CENTRO</td>\n",
       "      <td>Colisión doble</td>\n",
       "      <td>Lluvia débil</td>\n",
       "      <td>Bicicleta</td>\n",
       "      <td>Conductor</td>\n",
       "      <td>De 25 a 29 años</td>\n",
       "      <td>...</td>\n",
       "      <td>0</td>\n",
       "      <td>0</td>\n",
       "      <td>0</td>\n",
       "      <td>0</td>\n",
       "      <td>1</td>\n",
       "      <td>0</td>\n",
       "      <td>0</td>\n",
       "      <td>0</td>\n",
       "      <td>0</td>\n",
       "      <td>0</td>\n",
       "    </tr>\n",
       "    <tr>\n",
       "      <th>3</th>\n",
       "      <td>2023S040309</td>\n",
       "      <td>2024-02-15</td>\n",
       "      <td>14:05:00</td>\n",
       "      <td>CALL. TESORO / CALL. MINAS</td>\n",
       "      <td>CENTRO</td>\n",
       "      <td>Colisión doble</td>\n",
       "      <td>Lluvia débil</td>\n",
       "      <td>Motocicleta hasta 125cc</td>\n",
       "      <td>Conductor</td>\n",
       "      <td>De 35 a 39 años</td>\n",
       "      <td>...</td>\n",
       "      <td>0</td>\n",
       "      <td>0</td>\n",
       "      <td>0</td>\n",
       "      <td>0</td>\n",
       "      <td>0</td>\n",
       "      <td>0</td>\n",
       "      <td>0</td>\n",
       "      <td>0</td>\n",
       "      <td>0</td>\n",
       "      <td>1</td>\n",
       "    </tr>\n",
       "    <tr>\n",
       "      <th>4</th>\n",
       "      <td>2023S040310</td>\n",
       "      <td>2024-02-18</td>\n",
       "      <td>10:40:00</td>\n",
       "      <td>GTA. RUIZ JIMENEZ / CALL. SAN BERNARDO</td>\n",
       "      <td>CHAMBERÍ</td>\n",
       "      <td>Colisión doble</td>\n",
       "      <td>Despejado</td>\n",
       "      <td>Turismo</td>\n",
       "      <td>Conductor</td>\n",
       "      <td>De 25 a 29 años</td>\n",
       "      <td>...</td>\n",
       "      <td>0</td>\n",
       "      <td>0</td>\n",
       "      <td>0</td>\n",
       "      <td>0</td>\n",
       "      <td>0</td>\n",
       "      <td>0</td>\n",
       "      <td>0</td>\n",
       "      <td>0</td>\n",
       "      <td>0</td>\n",
       "      <td>1</td>\n",
       "    </tr>\n",
       "    <tr>\n",
       "      <th>...</th>\n",
       "      <td>...</td>\n",
       "      <td>...</td>\n",
       "      <td>...</td>\n",
       "      <td>...</td>\n",
       "      <td>...</td>\n",
       "      <td>...</td>\n",
       "      <td>...</td>\n",
       "      <td>...</td>\n",
       "      <td>...</td>\n",
       "      <td>...</td>\n",
       "      <td>...</td>\n",
       "      <td>...</td>\n",
       "      <td>...</td>\n",
       "      <td>...</td>\n",
       "      <td>...</td>\n",
       "      <td>...</td>\n",
       "      <td>...</td>\n",
       "      <td>...</td>\n",
       "      <td>...</td>\n",
       "      <td>...</td>\n",
       "      <td>...</td>\n",
       "    </tr>\n",
       "    <tr>\n",
       "      <th>39686</th>\n",
       "      <td>2024S030621</td>\n",
       "      <td>2024-10-18</td>\n",
       "      <td>17:05:00</td>\n",
       "      <td>PLAZA. LIMA / AVDA. CONCHA ESPINA</td>\n",
       "      <td>CHAMARTÍN</td>\n",
       "      <td>Colisión doble</td>\n",
       "      <td>Despejado</td>\n",
       "      <td>Turismo</td>\n",
       "      <td>Conductor</td>\n",
       "      <td>De 45 a 49 años</td>\n",
       "      <td>...</td>\n",
       "      <td>0</td>\n",
       "      <td>0</td>\n",
       "      <td>0</td>\n",
       "      <td>0</td>\n",
       "      <td>0</td>\n",
       "      <td>0</td>\n",
       "      <td>0</td>\n",
       "      <td>0</td>\n",
       "      <td>0</td>\n",
       "      <td>1</td>\n",
       "    </tr>\n",
       "    <tr>\n",
       "      <th>39687</th>\n",
       "      <td>2024S031786</td>\n",
       "      <td>2024-10-11</td>\n",
       "      <td>02:00:00</td>\n",
       "      <td>CALL. PRINCESA / CALL. ALBERTO AGUILERA</td>\n",
       "      <td>MONCLOA-ARAVACA</td>\n",
       "      <td>Alcance</td>\n",
       "      <td>Despejado</td>\n",
       "      <td>Turismo</td>\n",
       "      <td>Conductor</td>\n",
       "      <td>De 25 a 29 años</td>\n",
       "      <td>...</td>\n",
       "      <td>0</td>\n",
       "      <td>0</td>\n",
       "      <td>0</td>\n",
       "      <td>0</td>\n",
       "      <td>0</td>\n",
       "      <td>0</td>\n",
       "      <td>0</td>\n",
       "      <td>0</td>\n",
       "      <td>0</td>\n",
       "      <td>1</td>\n",
       "    </tr>\n",
       "    <tr>\n",
       "      <th>39688</th>\n",
       "      <td>2024S031786</td>\n",
       "      <td>2024-10-11</td>\n",
       "      <td>02:00:00</td>\n",
       "      <td>CALL. PRINCESA / CALL. ALBERTO AGUILERA</td>\n",
       "      <td>MONCLOA-ARAVACA</td>\n",
       "      <td>Alcance</td>\n",
       "      <td>Despejado</td>\n",
       "      <td>Turismo</td>\n",
       "      <td>Conductor</td>\n",
       "      <td>De 25 a 29 años</td>\n",
       "      <td>...</td>\n",
       "      <td>0</td>\n",
       "      <td>0</td>\n",
       "      <td>0</td>\n",
       "      <td>0</td>\n",
       "      <td>0</td>\n",
       "      <td>0</td>\n",
       "      <td>0</td>\n",
       "      <td>0</td>\n",
       "      <td>0</td>\n",
       "      <td>1</td>\n",
       "    </tr>\n",
       "    <tr>\n",
       "      <th>39689</th>\n",
       "      <td>2024S031786</td>\n",
       "      <td>2024-10-11</td>\n",
       "      <td>02:00:00</td>\n",
       "      <td>CALL. PRINCESA / CALL. ALBERTO AGUILERA</td>\n",
       "      <td>MONCLOA-ARAVACA</td>\n",
       "      <td>Alcance</td>\n",
       "      <td>Despejado</td>\n",
       "      <td>Turismo</td>\n",
       "      <td>Pasajero</td>\n",
       "      <td>De 21 a 24 años</td>\n",
       "      <td>...</td>\n",
       "      <td>0</td>\n",
       "      <td>0</td>\n",
       "      <td>0</td>\n",
       "      <td>0</td>\n",
       "      <td>0</td>\n",
       "      <td>0</td>\n",
       "      <td>0</td>\n",
       "      <td>0</td>\n",
       "      <td>0</td>\n",
       "      <td>1</td>\n",
       "    </tr>\n",
       "    <tr>\n",
       "      <th>39690</th>\n",
       "      <td>2024S031786</td>\n",
       "      <td>2024-10-11</td>\n",
       "      <td>02:00:00</td>\n",
       "      <td>CALL. PRINCESA / CALL. ALBERTO AGUILERA</td>\n",
       "      <td>MONCLOA-ARAVACA</td>\n",
       "      <td>Alcance</td>\n",
       "      <td>Despejado</td>\n",
       "      <td>Turismo</td>\n",
       "      <td>Pasajero</td>\n",
       "      <td>De 25 a 29 años</td>\n",
       "      <td>...</td>\n",
       "      <td>0</td>\n",
       "      <td>0</td>\n",
       "      <td>1</td>\n",
       "      <td>0</td>\n",
       "      <td>0</td>\n",
       "      <td>0</td>\n",
       "      <td>0</td>\n",
       "      <td>0</td>\n",
       "      <td>0</td>\n",
       "      <td>0</td>\n",
       "    </tr>\n",
       "  </tbody>\n",
       "</table>\n",
       "<p>39691 rows × 115 columns</p>\n",
       "</div>"
      ],
      "text/plain": [
       "      num_expediente       fecha      hora  \\\n",
       "0        2023S040280  2024-01-04  14:09:00   \n",
       "1        2023S040280  2024-01-04  14:09:00   \n",
       "2        2023S040309  2024-02-15  14:05:00   \n",
       "3        2023S040309  2024-02-15  14:05:00   \n",
       "4        2023S040310  2024-02-18  10:40:00   \n",
       "...              ...         ...       ...   \n",
       "39686    2024S030621  2024-10-18  17:05:00   \n",
       "39687    2024S031786  2024-10-11  02:00:00   \n",
       "39688    2024S031786  2024-10-11  02:00:00   \n",
       "39689    2024S031786  2024-10-11  02:00:00   \n",
       "39690    2024S031786  2024-10-11  02:00:00   \n",
       "\n",
       "                                   localizacion         distrito  \\\n",
       "0      AVDA. NICETO ALCALA ZAMORA / AUTOV. M-11        HORTALEZA   \n",
       "1      AVDA. NICETO ALCALA ZAMORA / AUTOV. M-11        HORTALEZA   \n",
       "2                    CALL. TESORO / CALL. MINAS           CENTRO   \n",
       "3                    CALL. TESORO / CALL. MINAS           CENTRO   \n",
       "4        GTA. RUIZ JIMENEZ / CALL. SAN BERNARDO         CHAMBERÍ   \n",
       "...                                         ...              ...   \n",
       "39686         PLAZA. LIMA / AVDA. CONCHA ESPINA        CHAMARTÍN   \n",
       "39687   CALL. PRINCESA / CALL. ALBERTO AGUILERA  MONCLOA-ARAVACA   \n",
       "39688   CALL. PRINCESA / CALL. ALBERTO AGUILERA  MONCLOA-ARAVACA   \n",
       "39689   CALL. PRINCESA / CALL. ALBERTO AGUILERA  MONCLOA-ARAVACA   \n",
       "39690   CALL. PRINCESA / CALL. ALBERTO AGUILERA  MONCLOA-ARAVACA   \n",
       "\n",
       "       tipo_accidente estado_meteorológico            tipo_vehiculo  \\\n",
       "0      Colisión doble         Lluvia débil      Motocicleta > 125cc   \n",
       "1      Colisión doble         Lluvia débil                  Turismo   \n",
       "2      Colisión doble         Lluvia débil                Bicicleta   \n",
       "3      Colisión doble         Lluvia débil  Motocicleta hasta 125cc   \n",
       "4      Colisión doble            Despejado                  Turismo   \n",
       "...               ...                  ...                      ...   \n",
       "39686  Colisión doble            Despejado                  Turismo   \n",
       "39687         Alcance            Despejado                  Turismo   \n",
       "39688         Alcance            Despejado                  Turismo   \n",
       "39689         Alcance            Despejado                  Turismo   \n",
       "39690         Alcance            Despejado                  Turismo   \n",
       "\n",
       "      tipo_persona       rango_edad  ... rango_edad_Menor de 5 años  \\\n",
       "0        Conductor  De 55 a 59 años  ...                          0   \n",
       "1        Conductor  De 55 a 59 años  ...                          0   \n",
       "2        Conductor  De 25 a 29 años  ...                          0   \n",
       "3        Conductor  De 35 a 39 años  ...                          0   \n",
       "4        Conductor  De 25 a 29 años  ...                          0   \n",
       "...            ...              ...  ...                        ...   \n",
       "39686    Conductor  De 45 a 49 años  ...                          0   \n",
       "39687    Conductor  De 25 a 29 años  ...                          0   \n",
       "39688    Conductor  De 25 a 29 años  ...                          0   \n",
       "39689     Pasajero  De 21 a 24 años  ...                          0   \n",
       "39690     Pasajero  De 25 a 29 años  ...                          0   \n",
       "\n",
       "      rango_edad_Más de 74 años  \\\n",
       "0                             0   \n",
       "1                             0   \n",
       "2                             0   \n",
       "3                             0   \n",
       "4                             0   \n",
       "...                         ...   \n",
       "39686                         0   \n",
       "39687                         0   \n",
       "39688                         0   \n",
       "39689                         0   \n",
       "39690                         0   \n",
       "\n",
       "       lesividad_Asistencia sanitaria ambulatoria con posterioridad  \\\n",
       "0                                                      0              \n",
       "1                                                      0              \n",
       "2                                                      0              \n",
       "3                                                      0              \n",
       "4                                                      0              \n",
       "...                                                  ...              \n",
       "39686                                                  0              \n",
       "39687                                                  0              \n",
       "39688                                                  0              \n",
       "39689                                                  0              \n",
       "39690                                                  1              \n",
       "\n",
       "       lesividad_Asistencia sanitaria inmediata en centro de salud o mutua  \\\n",
       "0                                                      0                     \n",
       "1                                                      0                     \n",
       "2                                                      0                     \n",
       "3                                                      0                     \n",
       "4                                                      0                     \n",
       "...                                                  ...                     \n",
       "39686                                                  0                     \n",
       "39687                                                  0                     \n",
       "39688                                                  0                     \n",
       "39689                                                  0                     \n",
       "39690                                                  0                     \n",
       "\n",
       "       lesividad_Asistencia sanitaria sólo en el lugar del accidente  \\\n",
       "0                                                      0               \n",
       "1                                                      0               \n",
       "2                                                      1               \n",
       "3                                                      0               \n",
       "4                                                      0               \n",
       "...                                                  ...               \n",
       "39686                                                  0               \n",
       "39687                                                  0               \n",
       "39688                                                  0               \n",
       "39689                                                  0               \n",
       "39690                                                  0               \n",
       "\n",
       "       lesividad_Atención en urgencias sin posterior ingreso  \\\n",
       "0                                                      0       \n",
       "1                                                      0       \n",
       "2                                                      0       \n",
       "3                                                      0       \n",
       "4                                                      0       \n",
       "...                                                  ...       \n",
       "39686                                                  0       \n",
       "39687                                                  0       \n",
       "39688                                                  0       \n",
       "39689                                                  0       \n",
       "39690                                                  0       \n",
       "\n",
       "       lesividad_Fallecido 24 horas  \\\n",
       "0                                 0   \n",
       "1                                 0   \n",
       "2                                 0   \n",
       "3                                 0   \n",
       "4                                 0   \n",
       "...                             ...   \n",
       "39686                             0   \n",
       "39687                             0   \n",
       "39688                             0   \n",
       "39689                             0   \n",
       "39690                             0   \n",
       "\n",
       "       lesividad_Ingreso inferior o igual a 24 horas  \\\n",
       "0                                                  1   \n",
       "1                                                  0   \n",
       "2                                                  0   \n",
       "3                                                  0   \n",
       "4                                                  0   \n",
       "...                                              ...   \n",
       "39686                                              0   \n",
       "39687                                              0   \n",
       "39688                                              0   \n",
       "39689                                              0   \n",
       "39690                                              0   \n",
       "\n",
       "       lesividad_Ingreso superior a 24 horas  \\\n",
       "0                                          0   \n",
       "1                                          0   \n",
       "2                                          0   \n",
       "3                                          0   \n",
       "4                                          0   \n",
       "...                                      ...   \n",
       "39686                                      0   \n",
       "39687                                      0   \n",
       "39688                                      0   \n",
       "39689                                      0   \n",
       "39690                                      0   \n",
       "\n",
       "      lesividad_Sin asistencia sanitaria  \n",
       "0                                      0  \n",
       "1                                      1  \n",
       "2                                      0  \n",
       "3                                      1  \n",
       "4                                      1  \n",
       "...                                  ...  \n",
       "39686                                  1  \n",
       "39687                                  1  \n",
       "39688                                  1  \n",
       "39689                                  1  \n",
       "39690                                  0  \n",
       "\n",
       "[39691 rows x 115 columns]"
      ]
     },
     "execution_count": 1,
     "metadata": {},
     "output_type": "execute_result"
    }
   ],
   "source": [
    "import pandas as pd\n",
    "import numpy as np\n",
    "\n",
    "df = pd.read_csv(\"data_processed.csv\")\n",
    "df"
   ]
  },
  {
   "cell_type": "code",
   "execution_count": 2,
   "id": "ff12a127-586e-422e-81a2-30214431da76",
   "metadata": {},
   "outputs": [],
   "source": [
    "df_numeric = df.select_dtypes(include=[np.number])"
   ]
  },
  {
   "cell_type": "code",
   "execution_count": 3,
   "id": "47027626-6a8d-47de-9595-0190d04db8b6",
   "metadata": {},
   "outputs": [],
   "source": [
    "import pandas as pd\n",
    "import numpy as np\n",
    "from sklearn.preprocessing import MinMaxScaler\n",
    "\n",
    "# Seleccionar columnas numéricas\n",
    "numeric_cols = df_numeric.select_dtypes(include=[np.number])\n",
    "\n",
    "binary_cols = numeric_cols.columns[numeric_cols.nunique() == 2]\n",
    "\n",
    "excluded_cols = [\"dia_semana_sin\", \"dia_semana_cos\", \"rango_horario_sin\", \"rango_horario_cos\"]\n",
    "\n",
    "cols_to_scale = numeric_cols.columns.difference(binary_cols).difference(excluded_cols)\n",
    "\n",
    "scaler = MinMaxScaler()\n",
    "df_scaled = df_numeric.copy()\n",
    "df_scaled[cols_to_scale] = scaler.fit_transform(df_scaled[cols_to_scale])"
   ]
  },
  {
   "cell_type": "code",
   "execution_count": 4,
   "id": "ed602c78-a6db-43dd-8487-fb6a93eeee11",
   "metadata": {},
   "outputs": [
    {
     "data": {
      "text/html": [
       "<div>\n",
       "<style scoped>\n",
       "    .dataframe tbody tr th:only-of-type {\n",
       "        vertical-align: middle;\n",
       "    }\n",
       "\n",
       "    .dataframe tbody tr th {\n",
       "        vertical-align: top;\n",
       "    }\n",
       "\n",
       "    .dataframe thead th {\n",
       "        text-align: right;\n",
       "    }\n",
       "</style>\n",
       "<table border=\"1\" class=\"dataframe\">\n",
       "  <thead>\n",
       "    <tr style=\"text-align: right;\">\n",
       "      <th></th>\n",
       "      <th>coordenada_x_utm</th>\n",
       "      <th>coordenada_y_utm</th>\n",
       "      <th>positiva_alcohol</th>\n",
       "      <th>positiva_droga</th>\n",
       "      <th>año</th>\n",
       "      <th>mes</th>\n",
       "      <th>es_fin_semana</th>\n",
       "      <th>calle_1_cod</th>\n",
       "      <th>calle_2_cod</th>\n",
       "      <th>es_cruce</th>\n",
       "      <th>...</th>\n",
       "      <th>rango_edad_Menor de 5 años</th>\n",
       "      <th>rango_edad_Más de 74 años</th>\n",
       "      <th>lesividad_Asistencia sanitaria ambulatoria con posterioridad</th>\n",
       "      <th>lesividad_Asistencia sanitaria inmediata en centro de salud o mutua</th>\n",
       "      <th>lesividad_Asistencia sanitaria sólo en el lugar del accidente</th>\n",
       "      <th>lesividad_Atención en urgencias sin posterior ingreso</th>\n",
       "      <th>lesividad_Fallecido 24 horas</th>\n",
       "      <th>lesividad_Ingreso inferior o igual a 24 horas</th>\n",
       "      <th>lesividad_Ingreso superior a 24 horas</th>\n",
       "      <th>lesividad_Sin asistencia sanitaria</th>\n",
       "    </tr>\n",
       "  </thead>\n",
       "  <tbody>\n",
       "    <tr>\n",
       "      <th>0</th>\n",
       "      <td>0.615240</td>\n",
       "      <td>0.631145</td>\n",
       "      <td>0</td>\n",
       "      <td>0.0</td>\n",
       "      <td>0.0</td>\n",
       "      <td>0.000000</td>\n",
       "      <td>0</td>\n",
       "      <td>0.167840</td>\n",
       "      <td>0.013390</td>\n",
       "      <td>1</td>\n",
       "      <td>...</td>\n",
       "      <td>0</td>\n",
       "      <td>0</td>\n",
       "      <td>0</td>\n",
       "      <td>0</td>\n",
       "      <td>0</td>\n",
       "      <td>0</td>\n",
       "      <td>0</td>\n",
       "      <td>1</td>\n",
       "      <td>0</td>\n",
       "      <td>0</td>\n",
       "    </tr>\n",
       "    <tr>\n",
       "      <th>1</th>\n",
       "      <td>0.615240</td>\n",
       "      <td>0.631145</td>\n",
       "      <td>0</td>\n",
       "      <td>0.0</td>\n",
       "      <td>0.0</td>\n",
       "      <td>0.000000</td>\n",
       "      <td>0</td>\n",
       "      <td>0.167840</td>\n",
       "      <td>0.013390</td>\n",
       "      <td>1</td>\n",
       "      <td>...</td>\n",
       "      <td>0</td>\n",
       "      <td>0</td>\n",
       "      <td>0</td>\n",
       "      <td>0</td>\n",
       "      <td>0</td>\n",
       "      <td>0</td>\n",
       "      <td>0</td>\n",
       "      <td>0</td>\n",
       "      <td>0</td>\n",
       "      <td>1</td>\n",
       "    </tr>\n",
       "    <tr>\n",
       "      <th>2</th>\n",
       "      <td>0.427963</td>\n",
       "      <td>0.405960</td>\n",
       "      <td>0</td>\n",
       "      <td>0.0</td>\n",
       "      <td>0.0</td>\n",
       "      <td>0.111111</td>\n",
       "      <td>0</td>\n",
       "      <td>0.790088</td>\n",
       "      <td>0.614436</td>\n",
       "      <td>1</td>\n",
       "      <td>...</td>\n",
       "      <td>0</td>\n",
       "      <td>0</td>\n",
       "      <td>0</td>\n",
       "      <td>0</td>\n",
       "      <td>1</td>\n",
       "      <td>0</td>\n",
       "      <td>0</td>\n",
       "      <td>0</td>\n",
       "      <td>0</td>\n",
       "      <td>0</td>\n",
       "    </tr>\n",
       "    <tr>\n",
       "      <th>3</th>\n",
       "      <td>0.427963</td>\n",
       "      <td>0.405960</td>\n",
       "      <td>0</td>\n",
       "      <td>0.0</td>\n",
       "      <td>0.0</td>\n",
       "      <td>0.111111</td>\n",
       "      <td>0</td>\n",
       "      <td>0.790088</td>\n",
       "      <td>0.614436</td>\n",
       "      <td>1</td>\n",
       "      <td>...</td>\n",
       "      <td>0</td>\n",
       "      <td>0</td>\n",
       "      <td>0</td>\n",
       "      <td>0</td>\n",
       "      <td>0</td>\n",
       "      <td>0</td>\n",
       "      <td>0</td>\n",
       "      <td>0</td>\n",
       "      <td>0</td>\n",
       "      <td>1</td>\n",
       "    </tr>\n",
       "    <tr>\n",
       "      <th>4</th>\n",
       "      <td>0.428510</td>\n",
       "      <td>0.425790</td>\n",
       "      <td>0</td>\n",
       "      <td>0.0</td>\n",
       "      <td>0.0</td>\n",
       "      <td>0.111111</td>\n",
       "      <td>1</td>\n",
       "      <td>0.890632</td>\n",
       "      <td>0.730336</td>\n",
       "      <td>1</td>\n",
       "      <td>...</td>\n",
       "      <td>0</td>\n",
       "      <td>0</td>\n",
       "      <td>0</td>\n",
       "      <td>0</td>\n",
       "      <td>0</td>\n",
       "      <td>0</td>\n",
       "      <td>0</td>\n",
       "      <td>0</td>\n",
       "      <td>0</td>\n",
       "      <td>1</td>\n",
       "    </tr>\n",
       "  </tbody>\n",
       "</table>\n",
       "<p>5 rows × 100 columns</p>\n",
       "</div>"
      ],
      "text/plain": [
       "   coordenada_x_utm  coordenada_y_utm  positiva_alcohol  positiva_droga  año  \\\n",
       "0          0.615240          0.631145                 0             0.0  0.0   \n",
       "1          0.615240          0.631145                 0             0.0  0.0   \n",
       "2          0.427963          0.405960                 0             0.0  0.0   \n",
       "3          0.427963          0.405960                 0             0.0  0.0   \n",
       "4          0.428510          0.425790                 0             0.0  0.0   \n",
       "\n",
       "        mes  es_fin_semana  calle_1_cod  calle_2_cod  es_cruce  ...  \\\n",
       "0  0.000000              0     0.167840     0.013390         1  ...   \n",
       "1  0.000000              0     0.167840     0.013390         1  ...   \n",
       "2  0.111111              0     0.790088     0.614436         1  ...   \n",
       "3  0.111111              0     0.790088     0.614436         1  ...   \n",
       "4  0.111111              1     0.890632     0.730336         1  ...   \n",
       "\n",
       "   rango_edad_Menor de 5 años  rango_edad_Más de 74 años  \\\n",
       "0                           0                          0   \n",
       "1                           0                          0   \n",
       "2                           0                          0   \n",
       "3                           0                          0   \n",
       "4                           0                          0   \n",
       "\n",
       "   lesividad_Asistencia sanitaria ambulatoria con posterioridad  \\\n",
       "0                                                  0              \n",
       "1                                                  0              \n",
       "2                                                  0              \n",
       "3                                                  0              \n",
       "4                                                  0              \n",
       "\n",
       "   lesividad_Asistencia sanitaria inmediata en centro de salud o mutua  \\\n",
       "0                                                  0                     \n",
       "1                                                  0                     \n",
       "2                                                  0                     \n",
       "3                                                  0                     \n",
       "4                                                  0                     \n",
       "\n",
       "   lesividad_Asistencia sanitaria sólo en el lugar del accidente  \\\n",
       "0                                                  0               \n",
       "1                                                  0               \n",
       "2                                                  1               \n",
       "3                                                  0               \n",
       "4                                                  0               \n",
       "\n",
       "   lesividad_Atención en urgencias sin posterior ingreso  \\\n",
       "0                                                  0       \n",
       "1                                                  0       \n",
       "2                                                  0       \n",
       "3                                                  0       \n",
       "4                                                  0       \n",
       "\n",
       "   lesividad_Fallecido 24 horas  \\\n",
       "0                             0   \n",
       "1                             0   \n",
       "2                             0   \n",
       "3                             0   \n",
       "4                             0   \n",
       "\n",
       "   lesividad_Ingreso inferior o igual a 24 horas  \\\n",
       "0                                              1   \n",
       "1                                              0   \n",
       "2                                              0   \n",
       "3                                              0   \n",
       "4                                              0   \n",
       "\n",
       "   lesividad_Ingreso superior a 24 horas  lesividad_Sin asistencia sanitaria  \n",
       "0                                      0                                   0  \n",
       "1                                      0                                   1  \n",
       "2                                      0                                   0  \n",
       "3                                      0                                   1  \n",
       "4                                      0                                   1  \n",
       "\n",
       "[5 rows x 100 columns]"
      ]
     },
     "execution_count": 4,
     "metadata": {},
     "output_type": "execute_result"
    }
   ],
   "source": [
    "df_scaled.head()"
   ]
  },
  {
   "cell_type": "code",
   "execution_count": 5,
   "id": "86610829-06ec-442e-9416-2076e134a4d6",
   "metadata": {},
   "outputs": [],
   "source": [
    "df_scaled = df_scaled.select_dtypes(include=['number'])"
   ]
  },
  {
   "cell_type": "code",
   "execution_count": 6,
   "id": "7b7a9745-71f7-4082-9e7e-6a1bf49be8b6",
   "metadata": {},
   "outputs": [
    {
     "name": "stdout",
     "output_type": "stream",
     "text": [
      "Componentes seleccionados: 44\n",
      "Varianza explicada acumulada: 0.90\n",
      "        PC1       PC2       PC3       PC4       PC5       PC6       PC7  \\\n",
      "0  0.782334 -0.960391 -0.101075  0.983561 -0.470611  0.445999 -0.808160   \n",
      "1  0.653046 -1.008010 -0.206625  0.785937 -0.381430 -0.042427  0.680641   \n",
      "2  0.725795 -0.956734 -0.120426  0.869575 -0.411182  0.317779 -1.090942   \n",
      "3  0.736461 -0.958238 -0.062860  0.780874 -0.254279  0.691386 -0.343465   \n",
      "4 -1.067902  0.926811  0.538456  0.812526 -0.428002  0.405427  0.433513   \n",
      "\n",
      "        PC8       PC9      PC10  ...      PC35      PC36      PC37      PC38  \\\n",
      "0  0.178916 -0.600605 -0.752931  ... -0.359748 -0.679709  0.036524  0.073184   \n",
      "1  0.327274 -1.047758 -0.432993  ...  0.122291 -0.188757  0.019863  0.059000   \n",
      "2 -0.099004 -0.753573 -0.633647  ... -0.416164 -0.075564  0.361621 -0.043972   \n",
      "3  0.007083 -0.359389 -0.974988  ...  0.050570  0.370910  0.087776 -0.068964   \n",
      "4  0.149672  0.040299  0.045005  ...  0.113291 -0.136884 -0.202363  0.123487   \n",
      "\n",
      "       PC39      PC40      PC41      PC42      PC43      PC44  \n",
      "0 -0.027906  0.044685 -0.000467 -0.039062 -0.567851  0.134586  \n",
      "1 -0.007177 -0.043695  0.020811 -0.012414 -0.011267  0.181504  \n",
      "2 -0.172858  0.028753  0.025113 -0.064722 -0.226681  0.082213  \n",
      "3 -0.459080 -0.275156 -0.173687 -0.101868 -0.153485  0.125115  \n",
      "4  0.125724  0.155544 -0.287257  0.574959 -0.024324  0.491291  \n",
      "\n",
      "[5 rows x 44 columns]\n"
     ]
    }
   ],
   "source": [
    "from sklearn.decomposition import PCA\n",
    "import pandas as pd\n",
    "\n",
    "# Ajustar PCA para conservar el 90% de la variabilidad\n",
    "pca = PCA(n_components=0.9)\n",
    "df_pca = pca.fit_transform(df_scaled)\n",
    "\n",
    "print(f\"Componentes seleccionados: {pca.n_components_}\")\n",
    "explained_variance = pca.explained_variance_ratio_.cumsum()\n",
    "print(f\"Varianza explicada acumulada: {explained_variance[-1]:.2f}\")\n",
    "\n",
    "df_pca = pd.DataFrame(df_pca, columns=[f\"PC{i+1}\" for i in range(pca.n_components_)])\n",
    "print(df_pca.head())"
   ]
  },
  {
   "cell_type": "code",
   "execution_count": 7,
   "id": "cbd8e279-903a-4708-98b5-38278e6e890c",
   "metadata": {},
   "outputs": [],
   "source": [
    "X = df_scaled.to_numpy()"
   ]
  },
  {
   "cell_type": "code",
   "execution_count": 8,
   "id": "88ad04ad-dd34-4af3-99c6-e8aeda868d58",
   "metadata": {},
   "outputs": [],
   "source": [
    "import pandas as pd\n",
    "import numpy as np\n",
    "import matplotlib.pyplot as plt\n",
    "import hdbscan\n",
    "from sklearn.metrics import silhouette_score, calinski_harabasz_score"
   ]
  },
  {
   "cell_type": "code",
   "execution_count": 9,
   "id": "e8794fe2-b18f-40ef-8ae6-e76e0ad44280",
   "metadata": {},
   "outputs": [
    {
     "name": "stdout",
     "output_type": "stream",
     "text": [
      "10\n"
     ]
    },
    {
     "name": "stderr",
     "output_type": "stream",
     "text": [
      "C:\\Users\\nacho\\AppData\\Local\\Programs\\Python\\Python310\\lib\\site-packages\\sklearn\\utils\\deprecation.py:151: FutureWarning: 'force_all_finite' was renamed to 'ensure_all_finite' in 1.6 and will be removed in 1.8.\n",
      "  warnings.warn(\n",
      "C:\\Users\\nacho\\AppData\\Local\\Programs\\Python\\Python310\\lib\\site-packages\\sklearn\\utils\\deprecation.py:151: FutureWarning: 'force_all_finite' was renamed to 'ensure_all_finite' in 1.6 and will be removed in 1.8.\n",
      "  warnings.warn(\n"
     ]
    },
    {
     "name": "stdout",
     "output_type": "stream",
     "text": [
      "Resultado valido\n",
      "20\n"
     ]
    },
    {
     "name": "stderr",
     "output_type": "stream",
     "text": [
      "C:\\Users\\nacho\\AppData\\Local\\Programs\\Python\\Python310\\lib\\site-packages\\sklearn\\utils\\deprecation.py:151: FutureWarning: 'force_all_finite' was renamed to 'ensure_all_finite' in 1.6 and will be removed in 1.8.\n",
      "  warnings.warn(\n",
      "C:\\Users\\nacho\\AppData\\Local\\Programs\\Python\\Python310\\lib\\site-packages\\sklearn\\utils\\deprecation.py:151: FutureWarning: 'force_all_finite' was renamed to 'ensure_all_finite' in 1.6 and will be removed in 1.8.\n",
      "  warnings.warn(\n"
     ]
    },
    {
     "name": "stdout",
     "output_type": "stream",
     "text": [
      "Resultado valido\n",
      "30\n"
     ]
    },
    {
     "name": "stderr",
     "output_type": "stream",
     "text": [
      "C:\\Users\\nacho\\AppData\\Local\\Programs\\Python\\Python310\\lib\\site-packages\\sklearn\\utils\\deprecation.py:151: FutureWarning: 'force_all_finite' was renamed to 'ensure_all_finite' in 1.6 and will be removed in 1.8.\n",
      "  warnings.warn(\n",
      "C:\\Users\\nacho\\AppData\\Local\\Programs\\Python\\Python310\\lib\\site-packages\\sklearn\\utils\\deprecation.py:151: FutureWarning: 'force_all_finite' was renamed to 'ensure_all_finite' in 1.6 and will be removed in 1.8.\n",
      "  warnings.warn(\n"
     ]
    },
    {
     "name": "stdout",
     "output_type": "stream",
     "text": [
      "Resultado valido\n",
      "40\n"
     ]
    },
    {
     "name": "stderr",
     "output_type": "stream",
     "text": [
      "C:\\Users\\nacho\\AppData\\Local\\Programs\\Python\\Python310\\lib\\site-packages\\sklearn\\utils\\deprecation.py:151: FutureWarning: 'force_all_finite' was renamed to 'ensure_all_finite' in 1.6 and will be removed in 1.8.\n",
      "  warnings.warn(\n",
      "C:\\Users\\nacho\\AppData\\Local\\Programs\\Python\\Python310\\lib\\site-packages\\sklearn\\utils\\deprecation.py:151: FutureWarning: 'force_all_finite' was renamed to 'ensure_all_finite' in 1.6 and will be removed in 1.8.\n",
      "  warnings.warn(\n"
     ]
    },
    {
     "name": "stdout",
     "output_type": "stream",
     "text": [
      "50\n"
     ]
    },
    {
     "name": "stderr",
     "output_type": "stream",
     "text": [
      "C:\\Users\\nacho\\AppData\\Local\\Programs\\Python\\Python310\\lib\\site-packages\\sklearn\\utils\\deprecation.py:151: FutureWarning: 'force_all_finite' was renamed to 'ensure_all_finite' in 1.6 and will be removed in 1.8.\n",
      "  warnings.warn(\n",
      "C:\\Users\\nacho\\AppData\\Local\\Programs\\Python\\Python310\\lib\\site-packages\\sklearn\\utils\\deprecation.py:151: FutureWarning: 'force_all_finite' was renamed to 'ensure_all_finite' in 1.6 and will be removed in 1.8.\n",
      "  warnings.warn(\n"
     ]
    },
    {
     "name": "stdout",
     "output_type": "stream",
     "text": [
      "60\n"
     ]
    },
    {
     "name": "stderr",
     "output_type": "stream",
     "text": [
      "C:\\Users\\nacho\\AppData\\Local\\Programs\\Python\\Python310\\lib\\site-packages\\sklearn\\utils\\deprecation.py:151: FutureWarning: 'force_all_finite' was renamed to 'ensure_all_finite' in 1.6 and will be removed in 1.8.\n",
      "  warnings.warn(\n",
      "C:\\Users\\nacho\\AppData\\Local\\Programs\\Python\\Python310\\lib\\site-packages\\sklearn\\utils\\deprecation.py:151: FutureWarning: 'force_all_finite' was renamed to 'ensure_all_finite' in 1.6 and will be removed in 1.8.\n",
      "  warnings.warn(\n"
     ]
    },
    {
     "name": "stdout",
     "output_type": "stream",
     "text": [
      "70\n"
     ]
    },
    {
     "name": "stderr",
     "output_type": "stream",
     "text": [
      "C:\\Users\\nacho\\AppData\\Local\\Programs\\Python\\Python310\\lib\\site-packages\\sklearn\\utils\\deprecation.py:151: FutureWarning: 'force_all_finite' was renamed to 'ensure_all_finite' in 1.6 and will be removed in 1.8.\n",
      "  warnings.warn(\n",
      "C:\\Users\\nacho\\AppData\\Local\\Programs\\Python\\Python310\\lib\\site-packages\\sklearn\\utils\\deprecation.py:151: FutureWarning: 'force_all_finite' was renamed to 'ensure_all_finite' in 1.6 and will be removed in 1.8.\n",
      "  warnings.warn(\n"
     ]
    },
    {
     "name": "stdout",
     "output_type": "stream",
     "text": [
      "80\n"
     ]
    },
    {
     "name": "stderr",
     "output_type": "stream",
     "text": [
      "C:\\Users\\nacho\\AppData\\Local\\Programs\\Python\\Python310\\lib\\site-packages\\sklearn\\utils\\deprecation.py:151: FutureWarning: 'force_all_finite' was renamed to 'ensure_all_finite' in 1.6 and will be removed in 1.8.\n",
      "  warnings.warn(\n",
      "C:\\Users\\nacho\\AppData\\Local\\Programs\\Python\\Python310\\lib\\site-packages\\sklearn\\utils\\deprecation.py:151: FutureWarning: 'force_all_finite' was renamed to 'ensure_all_finite' in 1.6 and will be removed in 1.8.\n",
      "  warnings.warn(\n"
     ]
    },
    {
     "name": "stdout",
     "output_type": "stream",
     "text": [
      "90\n"
     ]
    },
    {
     "name": "stderr",
     "output_type": "stream",
     "text": [
      "C:\\Users\\nacho\\AppData\\Local\\Programs\\Python\\Python310\\lib\\site-packages\\sklearn\\utils\\deprecation.py:151: FutureWarning: 'force_all_finite' was renamed to 'ensure_all_finite' in 1.6 and will be removed in 1.8.\n",
      "  warnings.warn(\n",
      "C:\\Users\\nacho\\AppData\\Local\\Programs\\Python\\Python310\\lib\\site-packages\\sklearn\\utils\\deprecation.py:151: FutureWarning: 'force_all_finite' was renamed to 'ensure_all_finite' in 1.6 and will be removed in 1.8.\n",
      "  warnings.warn(\n"
     ]
    },
    {
     "name": "stdout",
     "output_type": "stream",
     "text": [
      "100\n"
     ]
    },
    {
     "name": "stderr",
     "output_type": "stream",
     "text": [
      "C:\\Users\\nacho\\AppData\\Local\\Programs\\Python\\Python310\\lib\\site-packages\\sklearn\\utils\\deprecation.py:151: FutureWarning: 'force_all_finite' was renamed to 'ensure_all_finite' in 1.6 and will be removed in 1.8.\n",
      "  warnings.warn(\n",
      "C:\\Users\\nacho\\AppData\\Local\\Programs\\Python\\Python310\\lib\\site-packages\\sklearn\\utils\\deprecation.py:151: FutureWarning: 'force_all_finite' was renamed to 'ensure_all_finite' in 1.6 and will be removed in 1.8.\n",
      "  warnings.warn(\n"
     ]
    },
    {
     "name": "stdout",
     "output_type": "stream",
     "text": [
      "110\n"
     ]
    },
    {
     "name": "stderr",
     "output_type": "stream",
     "text": [
      "C:\\Users\\nacho\\AppData\\Local\\Programs\\Python\\Python310\\lib\\site-packages\\sklearn\\utils\\deprecation.py:151: FutureWarning: 'force_all_finite' was renamed to 'ensure_all_finite' in 1.6 and will be removed in 1.8.\n",
      "  warnings.warn(\n",
      "C:\\Users\\nacho\\AppData\\Local\\Programs\\Python\\Python310\\lib\\site-packages\\sklearn\\utils\\deprecation.py:151: FutureWarning: 'force_all_finite' was renamed to 'ensure_all_finite' in 1.6 and will be removed in 1.8.\n",
      "  warnings.warn(\n"
     ]
    },
    {
     "name": "stdout",
     "output_type": "stream",
     "text": [
      "120\n"
     ]
    },
    {
     "name": "stderr",
     "output_type": "stream",
     "text": [
      "C:\\Users\\nacho\\AppData\\Local\\Programs\\Python\\Python310\\lib\\site-packages\\sklearn\\utils\\deprecation.py:151: FutureWarning: 'force_all_finite' was renamed to 'ensure_all_finite' in 1.6 and will be removed in 1.8.\n",
      "  warnings.warn(\n",
      "C:\\Users\\nacho\\AppData\\Local\\Programs\\Python\\Python310\\lib\\site-packages\\sklearn\\utils\\deprecation.py:151: FutureWarning: 'force_all_finite' was renamed to 'ensure_all_finite' in 1.6 and will be removed in 1.8.\n",
      "  warnings.warn(\n"
     ]
    },
    {
     "name": "stdout",
     "output_type": "stream",
     "text": [
      "130\n"
     ]
    },
    {
     "name": "stderr",
     "output_type": "stream",
     "text": [
      "C:\\Users\\nacho\\AppData\\Local\\Programs\\Python\\Python310\\lib\\site-packages\\sklearn\\utils\\deprecation.py:151: FutureWarning: 'force_all_finite' was renamed to 'ensure_all_finite' in 1.6 and will be removed in 1.8.\n",
      "  warnings.warn(\n",
      "C:\\Users\\nacho\\AppData\\Local\\Programs\\Python\\Python310\\lib\\site-packages\\sklearn\\utils\\deprecation.py:151: FutureWarning: 'force_all_finite' was renamed to 'ensure_all_finite' in 1.6 and will be removed in 1.8.\n",
      "  warnings.warn(\n"
     ]
    },
    {
     "name": "stdout",
     "output_type": "stream",
     "text": [
      "140\n"
     ]
    },
    {
     "name": "stderr",
     "output_type": "stream",
     "text": [
      "C:\\Users\\nacho\\AppData\\Local\\Programs\\Python\\Python310\\lib\\site-packages\\sklearn\\utils\\deprecation.py:151: FutureWarning: 'force_all_finite' was renamed to 'ensure_all_finite' in 1.6 and will be removed in 1.8.\n",
      "  warnings.warn(\n",
      "C:\\Users\\nacho\\AppData\\Local\\Programs\\Python\\Python310\\lib\\site-packages\\sklearn\\utils\\deprecation.py:151: FutureWarning: 'force_all_finite' was renamed to 'ensure_all_finite' in 1.6 and will be removed in 1.8.\n",
      "  warnings.warn(\n"
     ]
    },
    {
     "name": "stdout",
     "output_type": "stream",
     "text": [
      "150\n"
     ]
    },
    {
     "name": "stderr",
     "output_type": "stream",
     "text": [
      "C:\\Users\\nacho\\AppData\\Local\\Programs\\Python\\Python310\\lib\\site-packages\\sklearn\\utils\\deprecation.py:151: FutureWarning: 'force_all_finite' was renamed to 'ensure_all_finite' in 1.6 and will be removed in 1.8.\n",
      "  warnings.warn(\n",
      "C:\\Users\\nacho\\AppData\\Local\\Programs\\Python\\Python310\\lib\\site-packages\\sklearn\\utils\\deprecation.py:151: FutureWarning: 'force_all_finite' was renamed to 'ensure_all_finite' in 1.6 and will be removed in 1.8.\n",
      "  warnings.warn(\n"
     ]
    },
    {
     "name": "stdout",
     "output_type": "stream",
     "text": [
      "160\n"
     ]
    },
    {
     "name": "stderr",
     "output_type": "stream",
     "text": [
      "C:\\Users\\nacho\\AppData\\Local\\Programs\\Python\\Python310\\lib\\site-packages\\sklearn\\utils\\deprecation.py:151: FutureWarning: 'force_all_finite' was renamed to 'ensure_all_finite' in 1.6 and will be removed in 1.8.\n",
      "  warnings.warn(\n",
      "C:\\Users\\nacho\\AppData\\Local\\Programs\\Python\\Python310\\lib\\site-packages\\sklearn\\utils\\deprecation.py:151: FutureWarning: 'force_all_finite' was renamed to 'ensure_all_finite' in 1.6 and will be removed in 1.8.\n",
      "  warnings.warn(\n"
     ]
    },
    {
     "name": "stdout",
     "output_type": "stream",
     "text": [
      "170\n"
     ]
    },
    {
     "name": "stderr",
     "output_type": "stream",
     "text": [
      "C:\\Users\\nacho\\AppData\\Local\\Programs\\Python\\Python310\\lib\\site-packages\\sklearn\\utils\\deprecation.py:151: FutureWarning: 'force_all_finite' was renamed to 'ensure_all_finite' in 1.6 and will be removed in 1.8.\n",
      "  warnings.warn(\n",
      "C:\\Users\\nacho\\AppData\\Local\\Programs\\Python\\Python310\\lib\\site-packages\\sklearn\\utils\\deprecation.py:151: FutureWarning: 'force_all_finite' was renamed to 'ensure_all_finite' in 1.6 and will be removed in 1.8.\n",
      "  warnings.warn(\n"
     ]
    },
    {
     "name": "stdout",
     "output_type": "stream",
     "text": [
      "180\n"
     ]
    },
    {
     "name": "stderr",
     "output_type": "stream",
     "text": [
      "C:\\Users\\nacho\\AppData\\Local\\Programs\\Python\\Python310\\lib\\site-packages\\sklearn\\utils\\deprecation.py:151: FutureWarning: 'force_all_finite' was renamed to 'ensure_all_finite' in 1.6 and will be removed in 1.8.\n",
      "  warnings.warn(\n",
      "C:\\Users\\nacho\\AppData\\Local\\Programs\\Python\\Python310\\lib\\site-packages\\sklearn\\utils\\deprecation.py:151: FutureWarning: 'force_all_finite' was renamed to 'ensure_all_finite' in 1.6 and will be removed in 1.8.\n",
      "  warnings.warn(\n"
     ]
    },
    {
     "name": "stdout",
     "output_type": "stream",
     "text": [
      "190\n"
     ]
    },
    {
     "name": "stderr",
     "output_type": "stream",
     "text": [
      "C:\\Users\\nacho\\AppData\\Local\\Programs\\Python\\Python310\\lib\\site-packages\\sklearn\\utils\\deprecation.py:151: FutureWarning: 'force_all_finite' was renamed to 'ensure_all_finite' in 1.6 and will be removed in 1.8.\n",
      "  warnings.warn(\n",
      "C:\\Users\\nacho\\AppData\\Local\\Programs\\Python\\Python310\\lib\\site-packages\\sklearn\\utils\\deprecation.py:151: FutureWarning: 'force_all_finite' was renamed to 'ensure_all_finite' in 1.6 and will be removed in 1.8.\n",
      "  warnings.warn(\n"
     ]
    },
    {
     "name": "stdout",
     "output_type": "stream",
     "text": [
      "200\n"
     ]
    },
    {
     "name": "stderr",
     "output_type": "stream",
     "text": [
      "C:\\Users\\nacho\\AppData\\Local\\Programs\\Python\\Python310\\lib\\site-packages\\sklearn\\utils\\deprecation.py:151: FutureWarning: 'force_all_finite' was renamed to 'ensure_all_finite' in 1.6 and will be removed in 1.8.\n",
      "  warnings.warn(\n",
      "C:\\Users\\nacho\\AppData\\Local\\Programs\\Python\\Python310\\lib\\site-packages\\sklearn\\utils\\deprecation.py:151: FutureWarning: 'force_all_finite' was renamed to 'ensure_all_finite' in 1.6 and will be removed in 1.8.\n",
      "  warnings.warn(\n"
     ]
    },
    {
     "name": "stdout",
     "output_type": "stream",
     "text": [
      "210\n"
     ]
    },
    {
     "name": "stderr",
     "output_type": "stream",
     "text": [
      "C:\\Users\\nacho\\AppData\\Local\\Programs\\Python\\Python310\\lib\\site-packages\\sklearn\\utils\\deprecation.py:151: FutureWarning: 'force_all_finite' was renamed to 'ensure_all_finite' in 1.6 and will be removed in 1.8.\n",
      "  warnings.warn(\n",
      "C:\\Users\\nacho\\AppData\\Local\\Programs\\Python\\Python310\\lib\\site-packages\\sklearn\\utils\\deprecation.py:151: FutureWarning: 'force_all_finite' was renamed to 'ensure_all_finite' in 1.6 and will be removed in 1.8.\n",
      "  warnings.warn(\n"
     ]
    },
    {
     "name": "stdout",
     "output_type": "stream",
     "text": [
      "220\n"
     ]
    },
    {
     "name": "stderr",
     "output_type": "stream",
     "text": [
      "C:\\Users\\nacho\\AppData\\Local\\Programs\\Python\\Python310\\lib\\site-packages\\sklearn\\utils\\deprecation.py:151: FutureWarning: 'force_all_finite' was renamed to 'ensure_all_finite' in 1.6 and will be removed in 1.8.\n",
      "  warnings.warn(\n",
      "C:\\Users\\nacho\\AppData\\Local\\Programs\\Python\\Python310\\lib\\site-packages\\sklearn\\utils\\deprecation.py:151: FutureWarning: 'force_all_finite' was renamed to 'ensure_all_finite' in 1.6 and will be removed in 1.8.\n",
      "  warnings.warn(\n"
     ]
    },
    {
     "name": "stdout",
     "output_type": "stream",
     "text": [
      "230\n"
     ]
    },
    {
     "name": "stderr",
     "output_type": "stream",
     "text": [
      "C:\\Users\\nacho\\AppData\\Local\\Programs\\Python\\Python310\\lib\\site-packages\\sklearn\\utils\\deprecation.py:151: FutureWarning: 'force_all_finite' was renamed to 'ensure_all_finite' in 1.6 and will be removed in 1.8.\n",
      "  warnings.warn(\n",
      "C:\\Users\\nacho\\AppData\\Local\\Programs\\Python\\Python310\\lib\\site-packages\\sklearn\\utils\\deprecation.py:151: FutureWarning: 'force_all_finite' was renamed to 'ensure_all_finite' in 1.6 and will be removed in 1.8.\n",
      "  warnings.warn(\n"
     ]
    },
    {
     "name": "stdout",
     "output_type": "stream",
     "text": [
      "240\n"
     ]
    },
    {
     "name": "stderr",
     "output_type": "stream",
     "text": [
      "C:\\Users\\nacho\\AppData\\Local\\Programs\\Python\\Python310\\lib\\site-packages\\sklearn\\utils\\deprecation.py:151: FutureWarning: 'force_all_finite' was renamed to 'ensure_all_finite' in 1.6 and will be removed in 1.8.\n",
      "  warnings.warn(\n",
      "C:\\Users\\nacho\\AppData\\Local\\Programs\\Python\\Python310\\lib\\site-packages\\sklearn\\utils\\deprecation.py:151: FutureWarning: 'force_all_finite' was renamed to 'ensure_all_finite' in 1.6 and will be removed in 1.8.\n",
      "  warnings.warn(\n"
     ]
    },
    {
     "name": "stdout",
     "output_type": "stream",
     "text": [
      "250\n"
     ]
    },
    {
     "name": "stderr",
     "output_type": "stream",
     "text": [
      "C:\\Users\\nacho\\AppData\\Local\\Programs\\Python\\Python310\\lib\\site-packages\\sklearn\\utils\\deprecation.py:151: FutureWarning: 'force_all_finite' was renamed to 'ensure_all_finite' in 1.6 and will be removed in 1.8.\n",
      "  warnings.warn(\n",
      "C:\\Users\\nacho\\AppData\\Local\\Programs\\Python\\Python310\\lib\\site-packages\\sklearn\\utils\\deprecation.py:151: FutureWarning: 'force_all_finite' was renamed to 'ensure_all_finite' in 1.6 and will be removed in 1.8.\n",
      "  warnings.warn(\n"
     ]
    },
    {
     "name": "stdout",
     "output_type": "stream",
     "text": [
      "260\n"
     ]
    },
    {
     "name": "stderr",
     "output_type": "stream",
     "text": [
      "C:\\Users\\nacho\\AppData\\Local\\Programs\\Python\\Python310\\lib\\site-packages\\sklearn\\utils\\deprecation.py:151: FutureWarning: 'force_all_finite' was renamed to 'ensure_all_finite' in 1.6 and will be removed in 1.8.\n",
      "  warnings.warn(\n",
      "C:\\Users\\nacho\\AppData\\Local\\Programs\\Python\\Python310\\lib\\site-packages\\sklearn\\utils\\deprecation.py:151: FutureWarning: 'force_all_finite' was renamed to 'ensure_all_finite' in 1.6 and will be removed in 1.8.\n",
      "  warnings.warn(\n"
     ]
    },
    {
     "name": "stdout",
     "output_type": "stream",
     "text": [
      "270\n"
     ]
    },
    {
     "name": "stderr",
     "output_type": "stream",
     "text": [
      "C:\\Users\\nacho\\AppData\\Local\\Programs\\Python\\Python310\\lib\\site-packages\\sklearn\\utils\\deprecation.py:151: FutureWarning: 'force_all_finite' was renamed to 'ensure_all_finite' in 1.6 and will be removed in 1.8.\n",
      "  warnings.warn(\n",
      "C:\\Users\\nacho\\AppData\\Local\\Programs\\Python\\Python310\\lib\\site-packages\\sklearn\\utils\\deprecation.py:151: FutureWarning: 'force_all_finite' was renamed to 'ensure_all_finite' in 1.6 and will be removed in 1.8.\n",
      "  warnings.warn(\n"
     ]
    },
    {
     "name": "stdout",
     "output_type": "stream",
     "text": [
      "280\n"
     ]
    },
    {
     "name": "stderr",
     "output_type": "stream",
     "text": [
      "C:\\Users\\nacho\\AppData\\Local\\Programs\\Python\\Python310\\lib\\site-packages\\sklearn\\utils\\deprecation.py:151: FutureWarning: 'force_all_finite' was renamed to 'ensure_all_finite' in 1.6 and will be removed in 1.8.\n",
      "  warnings.warn(\n",
      "C:\\Users\\nacho\\AppData\\Local\\Programs\\Python\\Python310\\lib\\site-packages\\sklearn\\utils\\deprecation.py:151: FutureWarning: 'force_all_finite' was renamed to 'ensure_all_finite' in 1.6 and will be removed in 1.8.\n",
      "  warnings.warn(\n"
     ]
    },
    {
     "name": "stdout",
     "output_type": "stream",
     "text": [
      "290\n"
     ]
    },
    {
     "name": "stderr",
     "output_type": "stream",
     "text": [
      "C:\\Users\\nacho\\AppData\\Local\\Programs\\Python\\Python310\\lib\\site-packages\\sklearn\\utils\\deprecation.py:151: FutureWarning: 'force_all_finite' was renamed to 'ensure_all_finite' in 1.6 and will be removed in 1.8.\n",
      "  warnings.warn(\n",
      "C:\\Users\\nacho\\AppData\\Local\\Programs\\Python\\Python310\\lib\\site-packages\\sklearn\\utils\\deprecation.py:151: FutureWarning: 'force_all_finite' was renamed to 'ensure_all_finite' in 1.6 and will be removed in 1.8.\n",
      "  warnings.warn(\n"
     ]
    },
    {
     "name": "stdout",
     "output_type": "stream",
     "text": [
      "300\n"
     ]
    },
    {
     "name": "stderr",
     "output_type": "stream",
     "text": [
      "C:\\Users\\nacho\\AppData\\Local\\Programs\\Python\\Python310\\lib\\site-packages\\sklearn\\utils\\deprecation.py:151: FutureWarning: 'force_all_finite' was renamed to 'ensure_all_finite' in 1.6 and will be removed in 1.8.\n",
      "  warnings.warn(\n",
      "C:\\Users\\nacho\\AppData\\Local\\Programs\\Python\\Python310\\lib\\site-packages\\sklearn\\utils\\deprecation.py:151: FutureWarning: 'force_all_finite' was renamed to 'ensure_all_finite' in 1.6 and will be removed in 1.8.\n",
      "  warnings.warn(\n"
     ]
    },
    {
     "name": "stdout",
     "output_type": "stream",
     "text": [
      "310\n"
     ]
    },
    {
     "name": "stderr",
     "output_type": "stream",
     "text": [
      "C:\\Users\\nacho\\AppData\\Local\\Programs\\Python\\Python310\\lib\\site-packages\\sklearn\\utils\\deprecation.py:151: FutureWarning: 'force_all_finite' was renamed to 'ensure_all_finite' in 1.6 and will be removed in 1.8.\n",
      "  warnings.warn(\n",
      "C:\\Users\\nacho\\AppData\\Local\\Programs\\Python\\Python310\\lib\\site-packages\\sklearn\\utils\\deprecation.py:151: FutureWarning: 'force_all_finite' was renamed to 'ensure_all_finite' in 1.6 and will be removed in 1.8.\n",
      "  warnings.warn(\n"
     ]
    },
    {
     "name": "stdout",
     "output_type": "stream",
     "text": [
      "320\n"
     ]
    },
    {
     "name": "stderr",
     "output_type": "stream",
     "text": [
      "C:\\Users\\nacho\\AppData\\Local\\Programs\\Python\\Python310\\lib\\site-packages\\sklearn\\utils\\deprecation.py:151: FutureWarning: 'force_all_finite' was renamed to 'ensure_all_finite' in 1.6 and will be removed in 1.8.\n",
      "  warnings.warn(\n",
      "C:\\Users\\nacho\\AppData\\Local\\Programs\\Python\\Python310\\lib\\site-packages\\sklearn\\utils\\deprecation.py:151: FutureWarning: 'force_all_finite' was renamed to 'ensure_all_finite' in 1.6 and will be removed in 1.8.\n",
      "  warnings.warn(\n"
     ]
    },
    {
     "name": "stdout",
     "output_type": "stream",
     "text": [
      "330\n"
     ]
    },
    {
     "name": "stderr",
     "output_type": "stream",
     "text": [
      "C:\\Users\\nacho\\AppData\\Local\\Programs\\Python\\Python310\\lib\\site-packages\\sklearn\\utils\\deprecation.py:151: FutureWarning: 'force_all_finite' was renamed to 'ensure_all_finite' in 1.6 and will be removed in 1.8.\n",
      "  warnings.warn(\n",
      "C:\\Users\\nacho\\AppData\\Local\\Programs\\Python\\Python310\\lib\\site-packages\\sklearn\\utils\\deprecation.py:151: FutureWarning: 'force_all_finite' was renamed to 'ensure_all_finite' in 1.6 and will be removed in 1.8.\n",
      "  warnings.warn(\n"
     ]
    },
    {
     "name": "stdout",
     "output_type": "stream",
     "text": [
      "340\n"
     ]
    },
    {
     "name": "stderr",
     "output_type": "stream",
     "text": [
      "C:\\Users\\nacho\\AppData\\Local\\Programs\\Python\\Python310\\lib\\site-packages\\sklearn\\utils\\deprecation.py:151: FutureWarning: 'force_all_finite' was renamed to 'ensure_all_finite' in 1.6 and will be removed in 1.8.\n",
      "  warnings.warn(\n",
      "C:\\Users\\nacho\\AppData\\Local\\Programs\\Python\\Python310\\lib\\site-packages\\sklearn\\utils\\deprecation.py:151: FutureWarning: 'force_all_finite' was renamed to 'ensure_all_finite' in 1.6 and will be removed in 1.8.\n",
      "  warnings.warn(\n"
     ]
    },
    {
     "name": "stdout",
     "output_type": "stream",
     "text": [
      "350\n"
     ]
    },
    {
     "name": "stderr",
     "output_type": "stream",
     "text": [
      "C:\\Users\\nacho\\AppData\\Local\\Programs\\Python\\Python310\\lib\\site-packages\\sklearn\\utils\\deprecation.py:151: FutureWarning: 'force_all_finite' was renamed to 'ensure_all_finite' in 1.6 and will be removed in 1.8.\n",
      "  warnings.warn(\n",
      "C:\\Users\\nacho\\AppData\\Local\\Programs\\Python\\Python310\\lib\\site-packages\\sklearn\\utils\\deprecation.py:151: FutureWarning: 'force_all_finite' was renamed to 'ensure_all_finite' in 1.6 and will be removed in 1.8.\n",
      "  warnings.warn(\n"
     ]
    },
    {
     "name": "stdout",
     "output_type": "stream",
     "text": [
      "360\n"
     ]
    },
    {
     "name": "stderr",
     "output_type": "stream",
     "text": [
      "C:\\Users\\nacho\\AppData\\Local\\Programs\\Python\\Python310\\lib\\site-packages\\sklearn\\utils\\deprecation.py:151: FutureWarning: 'force_all_finite' was renamed to 'ensure_all_finite' in 1.6 and will be removed in 1.8.\n",
      "  warnings.warn(\n",
      "C:\\Users\\nacho\\AppData\\Local\\Programs\\Python\\Python310\\lib\\site-packages\\sklearn\\utils\\deprecation.py:151: FutureWarning: 'force_all_finite' was renamed to 'ensure_all_finite' in 1.6 and will be removed in 1.8.\n",
      "  warnings.warn(\n"
     ]
    },
    {
     "name": "stdout",
     "output_type": "stream",
     "text": [
      "370\n"
     ]
    },
    {
     "name": "stderr",
     "output_type": "stream",
     "text": [
      "C:\\Users\\nacho\\AppData\\Local\\Programs\\Python\\Python310\\lib\\site-packages\\sklearn\\utils\\deprecation.py:151: FutureWarning: 'force_all_finite' was renamed to 'ensure_all_finite' in 1.6 and will be removed in 1.8.\n",
      "  warnings.warn(\n",
      "C:\\Users\\nacho\\AppData\\Local\\Programs\\Python\\Python310\\lib\\site-packages\\sklearn\\utils\\deprecation.py:151: FutureWarning: 'force_all_finite' was renamed to 'ensure_all_finite' in 1.6 and will be removed in 1.8.\n",
      "  warnings.warn(\n"
     ]
    },
    {
     "name": "stdout",
     "output_type": "stream",
     "text": [
      "380\n"
     ]
    },
    {
     "name": "stderr",
     "output_type": "stream",
     "text": [
      "C:\\Users\\nacho\\AppData\\Local\\Programs\\Python\\Python310\\lib\\site-packages\\sklearn\\utils\\deprecation.py:151: FutureWarning: 'force_all_finite' was renamed to 'ensure_all_finite' in 1.6 and will be removed in 1.8.\n",
      "  warnings.warn(\n",
      "C:\\Users\\nacho\\AppData\\Local\\Programs\\Python\\Python310\\lib\\site-packages\\sklearn\\utils\\deprecation.py:151: FutureWarning: 'force_all_finite' was renamed to 'ensure_all_finite' in 1.6 and will be removed in 1.8.\n",
      "  warnings.warn(\n"
     ]
    },
    {
     "name": "stdout",
     "output_type": "stream",
     "text": [
      "390\n"
     ]
    },
    {
     "name": "stderr",
     "output_type": "stream",
     "text": [
      "C:\\Users\\nacho\\AppData\\Local\\Programs\\Python\\Python310\\lib\\site-packages\\sklearn\\utils\\deprecation.py:151: FutureWarning: 'force_all_finite' was renamed to 'ensure_all_finite' in 1.6 and will be removed in 1.8.\n",
      "  warnings.warn(\n",
      "C:\\Users\\nacho\\AppData\\Local\\Programs\\Python\\Python310\\lib\\site-packages\\sklearn\\utils\\deprecation.py:151: FutureWarning: 'force_all_finite' was renamed to 'ensure_all_finite' in 1.6 and will be removed in 1.8.\n",
      "  warnings.warn(\n"
     ]
    },
    {
     "name": "stdout",
     "output_type": "stream",
     "text": [
      "400\n"
     ]
    },
    {
     "name": "stderr",
     "output_type": "stream",
     "text": [
      "C:\\Users\\nacho\\AppData\\Local\\Programs\\Python\\Python310\\lib\\site-packages\\sklearn\\utils\\deprecation.py:151: FutureWarning: 'force_all_finite' was renamed to 'ensure_all_finite' in 1.6 and will be removed in 1.8.\n",
      "  warnings.warn(\n",
      "C:\\Users\\nacho\\AppData\\Local\\Programs\\Python\\Python310\\lib\\site-packages\\sklearn\\utils\\deprecation.py:151: FutureWarning: 'force_all_finite' was renamed to 'ensure_all_finite' in 1.6 and will be removed in 1.8.\n",
      "  warnings.warn(\n"
     ]
    },
    {
     "name": "stdout",
     "output_type": "stream",
     "text": [
      "410\n"
     ]
    },
    {
     "name": "stderr",
     "output_type": "stream",
     "text": [
      "C:\\Users\\nacho\\AppData\\Local\\Programs\\Python\\Python310\\lib\\site-packages\\sklearn\\utils\\deprecation.py:151: FutureWarning: 'force_all_finite' was renamed to 'ensure_all_finite' in 1.6 and will be removed in 1.8.\n",
      "  warnings.warn(\n",
      "C:\\Users\\nacho\\AppData\\Local\\Programs\\Python\\Python310\\lib\\site-packages\\sklearn\\utils\\deprecation.py:151: FutureWarning: 'force_all_finite' was renamed to 'ensure_all_finite' in 1.6 and will be removed in 1.8.\n",
      "  warnings.warn(\n"
     ]
    },
    {
     "name": "stdout",
     "output_type": "stream",
     "text": [
      "420\n"
     ]
    },
    {
     "name": "stderr",
     "output_type": "stream",
     "text": [
      "C:\\Users\\nacho\\AppData\\Local\\Programs\\Python\\Python310\\lib\\site-packages\\sklearn\\utils\\deprecation.py:151: FutureWarning: 'force_all_finite' was renamed to 'ensure_all_finite' in 1.6 and will be removed in 1.8.\n",
      "  warnings.warn(\n",
      "C:\\Users\\nacho\\AppData\\Local\\Programs\\Python\\Python310\\lib\\site-packages\\sklearn\\utils\\deprecation.py:151: FutureWarning: 'force_all_finite' was renamed to 'ensure_all_finite' in 1.6 and will be removed in 1.8.\n",
      "  warnings.warn(\n"
     ]
    },
    {
     "name": "stdout",
     "output_type": "stream",
     "text": [
      "430\n"
     ]
    },
    {
     "name": "stderr",
     "output_type": "stream",
     "text": [
      "C:\\Users\\nacho\\AppData\\Local\\Programs\\Python\\Python310\\lib\\site-packages\\sklearn\\utils\\deprecation.py:151: FutureWarning: 'force_all_finite' was renamed to 'ensure_all_finite' in 1.6 and will be removed in 1.8.\n",
      "  warnings.warn(\n",
      "C:\\Users\\nacho\\AppData\\Local\\Programs\\Python\\Python310\\lib\\site-packages\\sklearn\\utils\\deprecation.py:151: FutureWarning: 'force_all_finite' was renamed to 'ensure_all_finite' in 1.6 and will be removed in 1.8.\n",
      "  warnings.warn(\n"
     ]
    },
    {
     "name": "stdout",
     "output_type": "stream",
     "text": [
      "440\n"
     ]
    },
    {
     "name": "stderr",
     "output_type": "stream",
     "text": [
      "C:\\Users\\nacho\\AppData\\Local\\Programs\\Python\\Python310\\lib\\site-packages\\sklearn\\utils\\deprecation.py:151: FutureWarning: 'force_all_finite' was renamed to 'ensure_all_finite' in 1.6 and will be removed in 1.8.\n",
      "  warnings.warn(\n",
      "C:\\Users\\nacho\\AppData\\Local\\Programs\\Python\\Python310\\lib\\site-packages\\sklearn\\utils\\deprecation.py:151: FutureWarning: 'force_all_finite' was renamed to 'ensure_all_finite' in 1.6 and will be removed in 1.8.\n",
      "  warnings.warn(\n"
     ]
    },
    {
     "name": "stdout",
     "output_type": "stream",
     "text": [
      "450\n"
     ]
    },
    {
     "name": "stderr",
     "output_type": "stream",
     "text": [
      "C:\\Users\\nacho\\AppData\\Local\\Programs\\Python\\Python310\\lib\\site-packages\\sklearn\\utils\\deprecation.py:151: FutureWarning: 'force_all_finite' was renamed to 'ensure_all_finite' in 1.6 and will be removed in 1.8.\n",
      "  warnings.warn(\n",
      "C:\\Users\\nacho\\AppData\\Local\\Programs\\Python\\Python310\\lib\\site-packages\\sklearn\\utils\\deprecation.py:151: FutureWarning: 'force_all_finite' was renamed to 'ensure_all_finite' in 1.6 and will be removed in 1.8.\n",
      "  warnings.warn(\n"
     ]
    },
    {
     "name": "stdout",
     "output_type": "stream",
     "text": [
      "460\n"
     ]
    },
    {
     "name": "stderr",
     "output_type": "stream",
     "text": [
      "C:\\Users\\nacho\\AppData\\Local\\Programs\\Python\\Python310\\lib\\site-packages\\sklearn\\utils\\deprecation.py:151: FutureWarning: 'force_all_finite' was renamed to 'ensure_all_finite' in 1.6 and will be removed in 1.8.\n",
      "  warnings.warn(\n",
      "C:\\Users\\nacho\\AppData\\Local\\Programs\\Python\\Python310\\lib\\site-packages\\sklearn\\utils\\deprecation.py:151: FutureWarning: 'force_all_finite' was renamed to 'ensure_all_finite' in 1.6 and will be removed in 1.8.\n",
      "  warnings.warn(\n"
     ]
    },
    {
     "name": "stdout",
     "output_type": "stream",
     "text": [
      "470\n"
     ]
    },
    {
     "name": "stderr",
     "output_type": "stream",
     "text": [
      "C:\\Users\\nacho\\AppData\\Local\\Programs\\Python\\Python310\\lib\\site-packages\\sklearn\\utils\\deprecation.py:151: FutureWarning: 'force_all_finite' was renamed to 'ensure_all_finite' in 1.6 and will be removed in 1.8.\n",
      "  warnings.warn(\n",
      "C:\\Users\\nacho\\AppData\\Local\\Programs\\Python\\Python310\\lib\\site-packages\\sklearn\\utils\\deprecation.py:151: FutureWarning: 'force_all_finite' was renamed to 'ensure_all_finite' in 1.6 and will be removed in 1.8.\n",
      "  warnings.warn(\n"
     ]
    },
    {
     "name": "stdout",
     "output_type": "stream",
     "text": [
      "480\n"
     ]
    },
    {
     "name": "stderr",
     "output_type": "stream",
     "text": [
      "C:\\Users\\nacho\\AppData\\Local\\Programs\\Python\\Python310\\lib\\site-packages\\sklearn\\utils\\deprecation.py:151: FutureWarning: 'force_all_finite' was renamed to 'ensure_all_finite' in 1.6 and will be removed in 1.8.\n",
      "  warnings.warn(\n",
      "C:\\Users\\nacho\\AppData\\Local\\Programs\\Python\\Python310\\lib\\site-packages\\sklearn\\utils\\deprecation.py:151: FutureWarning: 'force_all_finite' was renamed to 'ensure_all_finite' in 1.6 and will be removed in 1.8.\n",
      "  warnings.warn(\n"
     ]
    },
    {
     "name": "stdout",
     "output_type": "stream",
     "text": [
      "490\n"
     ]
    },
    {
     "name": "stderr",
     "output_type": "stream",
     "text": [
      "C:\\Users\\nacho\\AppData\\Local\\Programs\\Python\\Python310\\lib\\site-packages\\sklearn\\utils\\deprecation.py:151: FutureWarning: 'force_all_finite' was renamed to 'ensure_all_finite' in 1.6 and will be removed in 1.8.\n",
      "  warnings.warn(\n",
      "C:\\Users\\nacho\\AppData\\Local\\Programs\\Python\\Python310\\lib\\site-packages\\sklearn\\utils\\deprecation.py:151: FutureWarning: 'force_all_finite' was renamed to 'ensure_all_finite' in 1.6 and will be removed in 1.8.\n",
      "  warnings.warn(\n"
     ]
    },
    {
     "data": {
      "text/html": [
       "<div>\n",
       "<style scoped>\n",
       "    .dataframe tbody tr th:only-of-type {\n",
       "        vertical-align: middle;\n",
       "    }\n",
       "\n",
       "    .dataframe tbody tr th {\n",
       "        vertical-align: top;\n",
       "    }\n",
       "\n",
       "    .dataframe thead th {\n",
       "        text-align: right;\n",
       "    }\n",
       "</style>\n",
       "<table border=\"1\" class=\"dataframe\">\n",
       "  <thead>\n",
       "    <tr style=\"text-align: right;\">\n",
       "      <th></th>\n",
       "      <th>min_cluster_size</th>\n",
       "      <th>n_clusters</th>\n",
       "      <th>silhouette</th>\n",
       "      <th>calinski_harabasz</th>\n",
       "    </tr>\n",
       "  </thead>\n",
       "  <tbody>\n",
       "    <tr>\n",
       "      <th>0</th>\n",
       "      <td>10</td>\n",
       "      <td>3</td>\n",
       "      <td>0.012749</td>\n",
       "      <td>485.190901</td>\n",
       "    </tr>\n",
       "    <tr>\n",
       "      <th>1</th>\n",
       "      <td>20</td>\n",
       "      <td>3</td>\n",
       "      <td>-0.134896</td>\n",
       "      <td>33.225401</td>\n",
       "    </tr>\n",
       "    <tr>\n",
       "      <th>2</th>\n",
       "      <td>30</td>\n",
       "      <td>3</td>\n",
       "      <td>-0.138749</td>\n",
       "      <td>24.136790</td>\n",
       "    </tr>\n",
       "  </tbody>\n",
       "</table>\n",
       "</div>"
      ],
      "text/plain": [
       "   min_cluster_size  n_clusters  silhouette  calinski_harabasz\n",
       "0                10           3    0.012749         485.190901\n",
       "1                20           3   -0.134896          33.225401\n",
       "2                30           3   -0.138749          24.136790"
      ]
     },
     "execution_count": 9,
     "metadata": {},
     "output_type": "execute_result"
    }
   ],
   "source": [
    "# Probar diferentes valores de min_cluster_size\n",
    "min_cluster_sizes = range(10, 500, 10)\n",
    "results = []\n",
    "\n",
    "for size in min_cluster_sizes:\n",
    "    print(size)\n",
    "    clusterer = hdbscan.HDBSCAN(min_cluster_size=size, metric='euclidean')\n",
    "    labels = clusterer.fit_predict(X)\n",
    "    \n",
    "    # Calcular métricas solo si hay más de un clúster\n",
    "    if len(set(labels)) > 1:  # Evitar casos sin clusters\n",
    "        silhouette = silhouette_score(X, labels)\n",
    "        calinski_harabasz = calinski_harabasz_score(X, labels)\n",
    "        results.append((size, len(set(labels)), silhouette, calinski_harabasz))\n",
    "        print(\"Resultado valido\")\n",
    "\n",
    "# Crear un DataFrame con los resultados\n",
    "results_df = pd.DataFrame(results, columns=['min_cluster_size', 'n_clusters', 'silhouette', 'calinski_harabasz'])\n",
    "results_df"
   ]
  },
  {
   "cell_type": "code",
   "execution_count": 10,
   "id": "d376a750-48d3-49af-b0fb-0212432811e5",
   "metadata": {},
   "outputs": [
    {
     "data": {
      "image/png": "[encoded data removed]",
      "text/plain": [
       "<Figure size 1000x500 with 1 Axes>"
      ]
     },
     "metadata": {},
     "output_type": "display_data"
    },
    {
     "data": {
      "image/png": "[encoded data removed]",
      "text/plain": [
       "<Figure size 1000x500 with 1 Axes>"
      ]
     },
     "metadata": {},
     "output_type": "display_data"
    },
    {
     "data": {
      "image/png": "[encoded data removed]",
      "text/plain": [
       "<Figure size 1000x500 with 1 Axes>"
      ]
     },
     "metadata": {},
     "output_type": "display_data"
    }
   ],
   "source": [
    "import matplotlib.pyplot as plt\n",
    "\n",
    "# Gráfico del número de clusters vs min_cluster_size\n",
    "plt.figure(figsize=(10, 5))\n",
    "plt.plot(results_df['min_cluster_size'], results_df['n_clusters'], marker='o', color='b')\n",
    "plt.title(\"Número de Clusters vs min_cluster_size\")\n",
    "plt.xlabel(\"min_cluster_size\")\n",
    "plt.ylabel(\"Número de Clusters\")\n",
    "plt.grid(True)\n",
    "plt.show()\n",
    "\n",
    "# Gráfico del coeficiente de silueta vs min_cluster_size\n",
    "plt.figure(figsize=(10, 5))\n",
    "plt.plot(results_df['min_cluster_size'], results_df['silhouette'], marker='o', color='g')\n",
    "plt.title(\"Coeficiente de Silueta vs min_cluster_size\")\n",
    "plt.xlabel(\"min_cluster_size\")\n",
    "plt.ylabel(\"Coeficiente de Silueta\")\n",
    "plt.grid(True)\n",
    "plt.show()\n",
    "\n",
    "# Gráfico del coeficiente de Calinski-Harabasz vs min_cluster_size\n",
    "plt.figure(figsize=(10, 5))\n",
    "plt.plot(results_df['min_cluster_size'], results_df['calinski_harabasz'], marker='o', color='r')\n",
    "plt.title(\"Coeficiente de Calinski-Harabasz vs min_cluster_size\")\n",
    "plt.xlabel(\"min_cluster_size\")\n",
    "plt.ylabel(\"Coeficiente de Calinski-Harabasz\")\n",
    "plt.grid(True)\n",
    "plt.show()"
   ]
  },
  {
   "cell_type": "markdown",
   "id": "f0946602-ec46-414a-ba99-5708ed9f14c1",
   "metadata": {},
   "source": [
    "### Comparacion"
   ]
  },
  {
   "cell_type": "code",
   "execution_count": 23,
   "id": "96facd01-8574-45c0-93e4-2725592aceeb",
   "metadata": {},
   "outputs": [
    {
     "data": {
      "text/html": [
       "<div>\n",
       "<style scoped>\n",
       "    .dataframe tbody tr th:only-of-type {\n",
       "        vertical-align: middle;\n",
       "    }\n",
       "\n",
       "    .dataframe tbody tr th {\n",
       "        vertical-align: top;\n",
       "    }\n",
       "\n",
       "    .dataframe thead th {\n",
       "        text-align: right;\n",
       "    }\n",
       "</style>\n",
       "<table border=\"1\" class=\"dataframe\">\n",
       "  <thead>\n",
       "    <tr style=\"text-align: right;\">\n",
       "      <th></th>\n",
       "      <th>Algoritmo</th>\n",
       "      <th>Indice</th>\n",
       "      <th>Valor</th>\n",
       "      <th>N_clusters</th>\n",
       "    </tr>\n",
       "  </thead>\n",
       "  <tbody>\n",
       "    <tr>\n",
       "      <th>0</th>\n",
       "      <td>AglomerativeClustering</td>\n",
       "      <td>Calinski-Harabasz</td>\n",
       "      <td>92.157137</td>\n",
       "      <td>2</td>\n",
       "    </tr>\n",
       "    <tr>\n",
       "      <th>1</th>\n",
       "      <td>AglomerativeClustering</td>\n",
       "      <td>Davies-Bouldin</td>\n",
       "      <td>111.945956</td>\n",
       "      <td>2</td>\n",
       "    </tr>\n",
       "    <tr>\n",
       "      <th>2</th>\n",
       "      <td>AglomerativeClustering</td>\n",
       "      <td>Silhouette</td>\n",
       "      <td>0.224167</td>\n",
       "      <td>2</td>\n",
       "    </tr>\n",
       "    <tr>\n",
       "      <th>3</th>\n",
       "      <td>AglomerativeClustering</td>\n",
       "      <td>Calinski-Harabasz</td>\n",
       "      <td>60.208460</td>\n",
       "      <td>3</td>\n",
       "    </tr>\n",
       "    <tr>\n",
       "      <th>4</th>\n",
       "      <td>AglomerativeClustering</td>\n",
       "      <td>Davies-Bouldin</td>\n",
       "      <td>52.895047</td>\n",
       "      <td>3</td>\n",
       "    </tr>\n",
       "    <tr>\n",
       "      <th>...</th>\n",
       "      <td>...</td>\n",
       "      <td>...</td>\n",
       "      <td>...</td>\n",
       "      <td>...</td>\n",
       "    </tr>\n",
       "    <tr>\n",
       "      <th>500</th>\n",
       "      <td>Dbscan</td>\n",
       "      <td>Calinski-Harabasz</td>\n",
       "      <td>106.408292</td>\n",
       "      <td>10</td>\n",
       "    </tr>\n",
       "    <tr>\n",
       "      <th>501</th>\n",
       "      <td>Dbscan</td>\n",
       "      <td>Silhouette</td>\n",
       "      <td>-0.046186</td>\n",
       "      <td>5</td>\n",
       "    </tr>\n",
       "    <tr>\n",
       "      <th>502</th>\n",
       "      <td>Dbscan</td>\n",
       "      <td>Calinski-Harabasz</td>\n",
       "      <td>205.242566</td>\n",
       "      <td>5</td>\n",
       "    </tr>\n",
       "    <tr>\n",
       "      <th>503</th>\n",
       "      <td>Dbscan</td>\n",
       "      <td>Silhouette</td>\n",
       "      <td>-0.042130</td>\n",
       "      <td>4</td>\n",
       "    </tr>\n",
       "    <tr>\n",
       "      <th>504</th>\n",
       "      <td>Dbscan</td>\n",
       "      <td>Calinski-Harabasz</td>\n",
       "      <td>257.915871</td>\n",
       "      <td>4</td>\n",
       "    </tr>\n",
       "  </tbody>\n",
       "</table>\n",
       "<p>505 rows × 4 columns</p>\n",
       "</div>"
      ],
      "text/plain": [
       "                  Algoritmo             Indice       Valor  N_clusters\n",
       "0    AglomerativeClustering  Calinski-Harabasz   92.157137           2\n",
       "1    AglomerativeClustering     Davies-Bouldin  111.945956           2\n",
       "2    AglomerativeClustering         Silhouette    0.224167           2\n",
       "3    AglomerativeClustering  Calinski-Harabasz   60.208460           3\n",
       "4    AglomerativeClustering     Davies-Bouldin   52.895047           3\n",
       "..                      ...                ...         ...         ...\n",
       "500                  Dbscan  Calinski-Harabasz  106.408292          10\n",
       "501                  Dbscan         Silhouette   -0.046186           5\n",
       "502                  Dbscan  Calinski-Harabasz  205.242566           5\n",
       "503                  Dbscan         Silhouette   -0.042130           4\n",
       "504                  Dbscan  Calinski-Harabasz  257.915871           4\n",
       "\n",
       "[505 rows x 4 columns]"
      ]
     },
     "execution_count": 23,
     "metadata": {},
     "output_type": "execute_result"
    }
   ],
   "source": [
    "import pandas as pd\n",
    "\n",
    "resultados = pd.read_csv(\"resultados_clustering.csv\")\n",
    "resultados"
   ]
  },
  {
   "cell_type": "code",
   "execution_count": 27,
   "id": "c30ab434-8625-4657-85fb-0014df0cb790",
   "metadata": {},
   "outputs": [],
   "source": [
    "resultados = resultados[resultados[\"N_clusters\"] < 100]"
   ]
  },
  {
   "cell_type": "code",
   "execution_count": 28,
   "id": "0df11bfa-c234-4cb1-9c6b-5c148c68a1f2",
   "metadata": {},
   "outputs": [],
   "source": [
    "import pandas as pd\n",
    "\n",
    "df_dbscan = resultados[resultados['Algoritmo'] == 'Dbscan'].copy()\n",
    "df_otros = resultados[resultados['Algoritmo'] != 'Dbscan'].copy()\n",
    "\n",
    "df_dbscan_sil = df_dbscan[df_dbscan['Indice'] == 'Silhouette'].copy()\n",
    "df_dbscan_no_sil = df_dbscan[df_dbscan['Indice'] != 'Silhouette'].copy()\n",
    "\n",
    "df_dbscan_sil = (\n",
    "    df_dbscan_sil\n",
    "    .sort_values('Valor', ascending=False)\n",
    "    .drop_duplicates(subset='N_clusters', keep='first')  \n",
    ")\n",
    "\n",
    "df_dbscan_filtrado = pd.concat([df_dbscan_sil, df_dbscan_no_sil],\n",
    "                               ignore_index=True)\n",
    "\n",
    "# 5) Unimos con el resto de algoritmos\n",
    "df_filtrado = pd.concat([df_otros, df_dbscan_filtrado], \n",
    "                        ignore_index=True)"
   ]
  },
  {
   "cell_type": "code",
   "execution_count": 31,
   "id": "a578573c-ee36-4608-af43-756223d97ca1",
   "metadata": {
    "scrolled": true
   },
   "outputs": [
    {
     "data": {
      "text/html": [
       "<div>\n",
       "<style scoped>\n",
       "    .dataframe tbody tr th:only-of-type {\n",
       "        vertical-align: middle;\n",
       "    }\n",
       "\n",
       "    .dataframe tbody tr th {\n",
       "        vertical-align: top;\n",
       "    }\n",
       "\n",
       "    .dataframe thead th {\n",
       "        text-align: right;\n",
       "    }\n",
       "</style>\n",
       "<table border=\"1\" class=\"dataframe\">\n",
       "  <thead>\n",
       "    <tr style=\"text-align: right;\">\n",
       "      <th></th>\n",
       "      <th>Algoritmo</th>\n",
       "      <th>Indice</th>\n",
       "      <th>Valor</th>\n",
       "      <th>N_clusters</th>\n",
       "    </tr>\n",
       "  </thead>\n",
       "  <tbody>\n",
       "    <tr>\n",
       "      <th>54</th>\n",
       "      <td>Kmeans</td>\n",
       "      <td>Silhouette</td>\n",
       "      <td>0.066919</td>\n",
       "      <td>2</td>\n",
       "    </tr>\n",
       "    <tr>\n",
       "      <th>55</th>\n",
       "      <td>Kmeans</td>\n",
       "      <td>Silhouette</td>\n",
       "      <td>0.060348</td>\n",
       "      <td>3</td>\n",
       "    </tr>\n",
       "    <tr>\n",
       "      <th>56</th>\n",
       "      <td>Kmeans</td>\n",
       "      <td>Silhouette</td>\n",
       "      <td>0.070544</td>\n",
       "      <td>4</td>\n",
       "    </tr>\n",
       "    <tr>\n",
       "      <th>57</th>\n",
       "      <td>Kmeans</td>\n",
       "      <td>Silhouette</td>\n",
       "      <td>0.061791</td>\n",
       "      <td>5</td>\n",
       "    </tr>\n",
       "    <tr>\n",
       "      <th>58</th>\n",
       "      <td>Kmeans</td>\n",
       "      <td>Silhouette</td>\n",
       "      <td>0.060270</td>\n",
       "      <td>6</td>\n",
       "    </tr>\n",
       "    <tr>\n",
       "      <th>59</th>\n",
       "      <td>Kmeans</td>\n",
       "      <td>Silhouette</td>\n",
       "      <td>0.051588</td>\n",
       "      <td>7</td>\n",
       "    </tr>\n",
       "    <tr>\n",
       "      <th>60</th>\n",
       "      <td>Kmeans</td>\n",
       "      <td>Silhouette</td>\n",
       "      <td>0.049584</td>\n",
       "      <td>8</td>\n",
       "    </tr>\n",
       "    <tr>\n",
       "      <th>61</th>\n",
       "      <td>Kmeans</td>\n",
       "      <td>Silhouette</td>\n",
       "      <td>0.053187</td>\n",
       "      <td>9</td>\n",
       "    </tr>\n",
       "    <tr>\n",
       "      <th>62</th>\n",
       "      <td>Kmeans</td>\n",
       "      <td>Silhouette</td>\n",
       "      <td>0.050369</td>\n",
       "      <td>10</td>\n",
       "    </tr>\n",
       "    <tr>\n",
       "      <th>63</th>\n",
       "      <td>Kmeans</td>\n",
       "      <td>Silhouette</td>\n",
       "      <td>0.047492</td>\n",
       "      <td>11</td>\n",
       "    </tr>\n",
       "    <tr>\n",
       "      <th>64</th>\n",
       "      <td>Kmeans</td>\n",
       "      <td>Silhouette</td>\n",
       "      <td>0.048806</td>\n",
       "      <td>12</td>\n",
       "    </tr>\n",
       "    <tr>\n",
       "      <th>65</th>\n",
       "      <td>Kmeans</td>\n",
       "      <td>Silhouette</td>\n",
       "      <td>0.049294</td>\n",
       "      <td>13</td>\n",
       "    </tr>\n",
       "    <tr>\n",
       "      <th>66</th>\n",
       "      <td>Kmeans</td>\n",
       "      <td>Silhouette</td>\n",
       "      <td>0.049612</td>\n",
       "      <td>14</td>\n",
       "    </tr>\n",
       "    <tr>\n",
       "      <th>67</th>\n",
       "      <td>Kmeans</td>\n",
       "      <td>Silhouette</td>\n",
       "      <td>0.043663</td>\n",
       "      <td>15</td>\n",
       "    </tr>\n",
       "    <tr>\n",
       "      <th>68</th>\n",
       "      <td>Kmeans</td>\n",
       "      <td>Silhouette</td>\n",
       "      <td>0.045351</td>\n",
       "      <td>16</td>\n",
       "    </tr>\n",
       "    <tr>\n",
       "      <th>69</th>\n",
       "      <td>Kmeans</td>\n",
       "      <td>Silhouette</td>\n",
       "      <td>0.044933</td>\n",
       "      <td>17</td>\n",
       "    </tr>\n",
       "    <tr>\n",
       "      <th>70</th>\n",
       "      <td>Kmeans</td>\n",
       "      <td>Silhouette</td>\n",
       "      <td>0.047769</td>\n",
       "      <td>18</td>\n",
       "    </tr>\n",
       "    <tr>\n",
       "      <th>71</th>\n",
       "      <td>Kmeans</td>\n",
       "      <td>Silhouette</td>\n",
       "      <td>0.042981</td>\n",
       "      <td>19</td>\n",
       "    </tr>\n",
       "    <tr>\n",
       "      <th>72</th>\n",
       "      <td>Kmeans</td>\n",
       "      <td>Silhouette</td>\n",
       "      <td>0.043390</td>\n",
       "      <td>20</td>\n",
       "    </tr>\n",
       "    <tr>\n",
       "      <th>73</th>\n",
       "      <td>Kmeans</td>\n",
       "      <td>Calinski-Harabasz</td>\n",
       "      <td>2879.663513</td>\n",
       "      <td>2</td>\n",
       "    </tr>\n",
       "    <tr>\n",
       "      <th>74</th>\n",
       "      <td>Kmeans</td>\n",
       "      <td>Calinski-Harabasz</td>\n",
       "      <td>2441.461623</td>\n",
       "      <td>3</td>\n",
       "    </tr>\n",
       "    <tr>\n",
       "      <th>75</th>\n",
       "      <td>Kmeans</td>\n",
       "      <td>Calinski-Harabasz</td>\n",
       "      <td>2499.874957</td>\n",
       "      <td>4</td>\n",
       "    </tr>\n",
       "    <tr>\n",
       "      <th>76</th>\n",
       "      <td>Kmeans</td>\n",
       "      <td>Calinski-Harabasz</td>\n",
       "      <td>1940.055333</td>\n",
       "      <td>5</td>\n",
       "    </tr>\n",
       "    <tr>\n",
       "      <th>77</th>\n",
       "      <td>Kmeans</td>\n",
       "      <td>Calinski-Harabasz</td>\n",
       "      <td>1890.034912</td>\n",
       "      <td>6</td>\n",
       "    </tr>\n",
       "    <tr>\n",
       "      <th>78</th>\n",
       "      <td>Kmeans</td>\n",
       "      <td>Calinski-Harabasz</td>\n",
       "      <td>1673.797478</td>\n",
       "      <td>7</td>\n",
       "    </tr>\n",
       "    <tr>\n",
       "      <th>79</th>\n",
       "      <td>Kmeans</td>\n",
       "      <td>Calinski-Harabasz</td>\n",
       "      <td>1510.940514</td>\n",
       "      <td>8</td>\n",
       "    </tr>\n",
       "    <tr>\n",
       "      <th>80</th>\n",
       "      <td>Kmeans</td>\n",
       "      <td>Calinski-Harabasz</td>\n",
       "      <td>1459.349106</td>\n",
       "      <td>9</td>\n",
       "    </tr>\n",
       "    <tr>\n",
       "      <th>81</th>\n",
       "      <td>Kmeans</td>\n",
       "      <td>Calinski-Harabasz</td>\n",
       "      <td>1350.257576</td>\n",
       "      <td>10</td>\n",
       "    </tr>\n",
       "    <tr>\n",
       "      <th>82</th>\n",
       "      <td>Kmeans</td>\n",
       "      <td>Calinski-Harabasz</td>\n",
       "      <td>1254.782968</td>\n",
       "      <td>11</td>\n",
       "    </tr>\n",
       "    <tr>\n",
       "      <th>83</th>\n",
       "      <td>Kmeans</td>\n",
       "      <td>Calinski-Harabasz</td>\n",
       "      <td>1200.795721</td>\n",
       "      <td>12</td>\n",
       "    </tr>\n",
       "    <tr>\n",
       "      <th>84</th>\n",
       "      <td>Kmeans</td>\n",
       "      <td>Calinski-Harabasz</td>\n",
       "      <td>1157.729548</td>\n",
       "      <td>13</td>\n",
       "    </tr>\n",
       "    <tr>\n",
       "      <th>85</th>\n",
       "      <td>Kmeans</td>\n",
       "      <td>Calinski-Harabasz</td>\n",
       "      <td>1097.704103</td>\n",
       "      <td>14</td>\n",
       "    </tr>\n",
       "    <tr>\n",
       "      <th>86</th>\n",
       "      <td>Kmeans</td>\n",
       "      <td>Calinski-Harabasz</td>\n",
       "      <td>1035.942734</td>\n",
       "      <td>15</td>\n",
       "    </tr>\n",
       "    <tr>\n",
       "      <th>87</th>\n",
       "      <td>Kmeans</td>\n",
       "      <td>Calinski-Harabasz</td>\n",
       "      <td>1007.670653</td>\n",
       "      <td>16</td>\n",
       "    </tr>\n",
       "    <tr>\n",
       "      <th>88</th>\n",
       "      <td>Kmeans</td>\n",
       "      <td>Calinski-Harabasz</td>\n",
       "      <td>960.755211</td>\n",
       "      <td>17</td>\n",
       "    </tr>\n",
       "    <tr>\n",
       "      <th>89</th>\n",
       "      <td>Kmeans</td>\n",
       "      <td>Calinski-Harabasz</td>\n",
       "      <td>941.055160</td>\n",
       "      <td>18</td>\n",
       "    </tr>\n",
       "    <tr>\n",
       "      <th>90</th>\n",
       "      <td>Kmeans</td>\n",
       "      <td>Calinski-Harabasz</td>\n",
       "      <td>911.568643</td>\n",
       "      <td>19</td>\n",
       "    </tr>\n",
       "    <tr>\n",
       "      <th>91</th>\n",
       "      <td>Kmeans</td>\n",
       "      <td>Calinski-Harabasz</td>\n",
       "      <td>888.158693</td>\n",
       "      <td>20</td>\n",
       "    </tr>\n",
       "    <tr>\n",
       "      <th>92</th>\n",
       "      <td>Kmeans</td>\n",
       "      <td>Davies-Bouldin</td>\n",
       "      <td>3.673074</td>\n",
       "      <td>2</td>\n",
       "    </tr>\n",
       "    <tr>\n",
       "      <th>93</th>\n",
       "      <td>Kmeans</td>\n",
       "      <td>Davies-Bouldin</td>\n",
       "      <td>3.474938</td>\n",
       "      <td>3</td>\n",
       "    </tr>\n",
       "    <tr>\n",
       "      <th>94</th>\n",
       "      <td>Kmeans</td>\n",
       "      <td>Davies-Bouldin</td>\n",
       "      <td>3.133489</td>\n",
       "      <td>4</td>\n",
       "    </tr>\n",
       "    <tr>\n",
       "      <th>95</th>\n",
       "      <td>Kmeans</td>\n",
       "      <td>Davies-Bouldin</td>\n",
       "      <td>3.465425</td>\n",
       "      <td>5</td>\n",
       "    </tr>\n",
       "    <tr>\n",
       "      <th>96</th>\n",
       "      <td>Kmeans</td>\n",
       "      <td>Davies-Bouldin</td>\n",
       "      <td>3.393430</td>\n",
       "      <td>6</td>\n",
       "    </tr>\n",
       "    <tr>\n",
       "      <th>97</th>\n",
       "      <td>Kmeans</td>\n",
       "      <td>Davies-Bouldin</td>\n",
       "      <td>3.486783</td>\n",
       "      <td>7</td>\n",
       "    </tr>\n",
       "    <tr>\n",
       "      <th>98</th>\n",
       "      <td>Kmeans</td>\n",
       "      <td>Davies-Bouldin</td>\n",
       "      <td>3.472327</td>\n",
       "      <td>8</td>\n",
       "    </tr>\n",
       "    <tr>\n",
       "      <th>99</th>\n",
       "      <td>Kmeans</td>\n",
       "      <td>Davies-Bouldin</td>\n",
       "      <td>3.433026</td>\n",
       "      <td>9</td>\n",
       "    </tr>\n",
       "    <tr>\n",
       "      <th>100</th>\n",
       "      <td>Kmeans</td>\n",
       "      <td>Davies-Bouldin</td>\n",
       "      <td>3.569195</td>\n",
       "      <td>10</td>\n",
       "    </tr>\n",
       "    <tr>\n",
       "      <th>101</th>\n",
       "      <td>Kmeans</td>\n",
       "      <td>Davies-Bouldin</td>\n",
       "      <td>3.463326</td>\n",
       "      <td>11</td>\n",
       "    </tr>\n",
       "    <tr>\n",
       "      <th>102</th>\n",
       "      <td>Kmeans</td>\n",
       "      <td>Davies-Bouldin</td>\n",
       "      <td>3.362210</td>\n",
       "      <td>12</td>\n",
       "    </tr>\n",
       "    <tr>\n",
       "      <th>103</th>\n",
       "      <td>Kmeans</td>\n",
       "      <td>Davies-Bouldin</td>\n",
       "      <td>3.329272</td>\n",
       "      <td>13</td>\n",
       "    </tr>\n",
       "    <tr>\n",
       "      <th>104</th>\n",
       "      <td>Kmeans</td>\n",
       "      <td>Davies-Bouldin</td>\n",
       "      <td>3.281216</td>\n",
       "      <td>14</td>\n",
       "    </tr>\n",
       "    <tr>\n",
       "      <th>105</th>\n",
       "      <td>Kmeans</td>\n",
       "      <td>Davies-Bouldin</td>\n",
       "      <td>3.381364</td>\n",
       "      <td>15</td>\n",
       "    </tr>\n",
       "    <tr>\n",
       "      <th>106</th>\n",
       "      <td>Kmeans</td>\n",
       "      <td>Davies-Bouldin</td>\n",
       "      <td>3.365031</td>\n",
       "      <td>16</td>\n",
       "    </tr>\n",
       "    <tr>\n",
       "      <th>107</th>\n",
       "      <td>Kmeans</td>\n",
       "      <td>Davies-Bouldin</td>\n",
       "      <td>3.348931</td>\n",
       "      <td>17</td>\n",
       "    </tr>\n",
       "    <tr>\n",
       "      <th>108</th>\n",
       "      <td>Kmeans</td>\n",
       "      <td>Davies-Bouldin</td>\n",
       "      <td>3.330545</td>\n",
       "      <td>18</td>\n",
       "    </tr>\n",
       "    <tr>\n",
       "      <th>109</th>\n",
       "      <td>Kmeans</td>\n",
       "      <td>Davies-Bouldin</td>\n",
       "      <td>3.255622</td>\n",
       "      <td>19</td>\n",
       "    </tr>\n",
       "    <tr>\n",
       "      <th>110</th>\n",
       "      <td>Kmeans</td>\n",
       "      <td>Davies-Bouldin</td>\n",
       "      <td>3.278274</td>\n",
       "      <td>20</td>\n",
       "    </tr>\n",
       "  </tbody>\n",
       "</table>\n",
       "</div>"
      ],
      "text/plain": [
       "    Algoritmo             Indice        Valor  N_clusters\n",
       "54     Kmeans         Silhouette     0.066919           2\n",
       "55     Kmeans         Silhouette     0.060348           3\n",
       "56     Kmeans         Silhouette     0.070544           4\n",
       "57     Kmeans         Silhouette     0.061791           5\n",
       "58     Kmeans         Silhouette     0.060270           6\n",
       "59     Kmeans         Silhouette     0.051588           7\n",
       "60     Kmeans         Silhouette     0.049584           8\n",
       "61     Kmeans         Silhouette     0.053187           9\n",
       "62     Kmeans         Silhouette     0.050369          10\n",
       "63     Kmeans         Silhouette     0.047492          11\n",
       "64     Kmeans         Silhouette     0.048806          12\n",
       "65     Kmeans         Silhouette     0.049294          13\n",
       "66     Kmeans         Silhouette     0.049612          14\n",
       "67     Kmeans         Silhouette     0.043663          15\n",
       "68     Kmeans         Silhouette     0.045351          16\n",
       "69     Kmeans         Silhouette     0.044933          17\n",
       "70     Kmeans         Silhouette     0.047769          18\n",
       "71     Kmeans         Silhouette     0.042981          19\n",
       "72     Kmeans         Silhouette     0.043390          20\n",
       "73     Kmeans  Calinski-Harabasz  2879.663513           2\n",
       "74     Kmeans  Calinski-Harabasz  2441.461623           3\n",
       "75     Kmeans  Calinski-Harabasz  2499.874957           4\n",
       "76     Kmeans  Calinski-Harabasz  1940.055333           5\n",
       "77     Kmeans  Calinski-Harabasz  1890.034912           6\n",
       "78     Kmeans  Calinski-Harabasz  1673.797478           7\n",
       "79     Kmeans  Calinski-Harabasz  1510.940514           8\n",
       "80     Kmeans  Calinski-Harabasz  1459.349106           9\n",
       "81     Kmeans  Calinski-Harabasz  1350.257576          10\n",
       "82     Kmeans  Calinski-Harabasz  1254.782968          11\n",
       "83     Kmeans  Calinski-Harabasz  1200.795721          12\n",
       "84     Kmeans  Calinski-Harabasz  1157.729548          13\n",
       "85     Kmeans  Calinski-Harabasz  1097.704103          14\n",
       "86     Kmeans  Calinski-Harabasz  1035.942734          15\n",
       "87     Kmeans  Calinski-Harabasz  1007.670653          16\n",
       "88     Kmeans  Calinski-Harabasz   960.755211          17\n",
       "89     Kmeans  Calinski-Harabasz   941.055160          18\n",
       "90     Kmeans  Calinski-Harabasz   911.568643          19\n",
       "91     Kmeans  Calinski-Harabasz   888.158693          20\n",
       "92     Kmeans     Davies-Bouldin     3.673074           2\n",
       "93     Kmeans     Davies-Bouldin     3.474938           3\n",
       "94     Kmeans     Davies-Bouldin     3.133489           4\n",
       "95     Kmeans     Davies-Bouldin     3.465425           5\n",
       "96     Kmeans     Davies-Bouldin     3.393430           6\n",
       "97     Kmeans     Davies-Bouldin     3.486783           7\n",
       "98     Kmeans     Davies-Bouldin     3.472327           8\n",
       "99     Kmeans     Davies-Bouldin     3.433026           9\n",
       "100    Kmeans     Davies-Bouldin     3.569195          10\n",
       "101    Kmeans     Davies-Bouldin     3.463326          11\n",
       "102    Kmeans     Davies-Bouldin     3.362210          12\n",
       "103    Kmeans     Davies-Bouldin     3.329272          13\n",
       "104    Kmeans     Davies-Bouldin     3.281216          14\n",
       "105    Kmeans     Davies-Bouldin     3.381364          15\n",
       "106    Kmeans     Davies-Bouldin     3.365031          16\n",
       "107    Kmeans     Davies-Bouldin     3.348931          17\n",
       "108    Kmeans     Davies-Bouldin     3.330545          18\n",
       "109    Kmeans     Davies-Bouldin     3.255622          19\n",
       "110    Kmeans     Davies-Bouldin     3.278274          20"
      ]
     },
     "execution_count": 31,
     "metadata": {},
     "output_type": "execute_result"
    }
   ],
   "source": [
    "df_filtrado[df_filtrado['Algoritmo'] == 'Kmeans']"
   ]
  },
  {
   "cell_type": "code",
   "execution_count": 30,
   "id": "21685287-e83b-4883-aaaf-382938d02757",
   "metadata": {},
   "outputs": [
    {
     "data": {
      "image/png": "[encoded data removed]",
      "text/plain": [
       "<Figure size 1500x1000 with 9 Axes>"
      ]
     },
     "metadata": {},
     "output_type": "display_data"
    }
   ],
   "source": [
    "import matplotlib.pyplot as plt\n",
    "\n",
    "indices = ['Calinski-Harabasz', 'Davies-Bouldin', 'Silhouette']\n",
    "algoritmos = ['AglomerativeClustering', 'Kmeans', 'Dbscan']\n",
    "\n",
    "y_lims = {}\n",
    "for ind in indices:\n",
    "    df_temp = df_filtrado[df_filtrado['Indice'] == ind]\n",
    "    y_min = df_temp['Valor'].min()\n",
    "    y_max = df_temp['Valor'].max()\n",
    "    y_lims[ind] = (y_min, y_max)\n",
    "\n",
    "colores = {\n",
    "    'Calinski-Harabasz': 'blue',\n",
    "    'Davies-Bouldin': 'red',\n",
    "    'Silhouette': 'green'\n",
    "}\n",
    "\n",
    "fig, axs = plt.subplots(nrows=len(algoritmos),\n",
    "                        ncols=len(indices),\n",
    "                        figsize=(15, 10),\n",
    "                        sharex=False,\n",
    "                        sharey=False)\n",
    "\n",
    "for row, alg in enumerate(algoritmos):\n",
    "    for col, ind in enumerate(indices):\n",
    "        ax = axs[row, col]\n",
    "        \n",
    "        mask = (df_filtrado['Algoritmo'] == alg) & (df_filtrado['Indice'] == ind)\n",
    "        df_plot = df_filtrado[mask].sort_values(by='N_clusters')\n",
    "        \n",
    "        x = df_plot['N_clusters']\n",
    "        y = df_plot['Valor']\n",
    "        \n",
    "        ax.plot(x, y, marker='o', color=colores[ind], label=ind)\n",
    "        \n",
    "        ax.set_ylim(y_lims[ind])\n",
    "        \n",
    "        # Etiquetas\n",
    "        if row == 0:\n",
    "            ax.set_title(ind)\n",
    "        if col == 0:\n",
    "            ax.set_ylabel(alg)\n",
    "\n",
    "plt.tight_layout()\n",
    "plt.show()\n"
   ]
  },
  {
   "cell_type": "markdown",
   "id": "410170e3-c7ff-4ae6-950f-24c0abd13440",
   "metadata": {},
   "source": [
    "Observando estas gráficas se pueden sacar varias conclusiones:\n",
    "- El algoritmo de Dbscan no funciona demasiado bien para este dataset, al menos según los índices de los que se disponen. Pues ofrece resultados significativamente peores que el resto de algoritmos\n",
    "- Se puede apreciar que el algoritmo que mejor funciona es el de Kmeans, pues sus valores para todos los índices son bastante buenos.\n",
    "- En comparación con el HDBSCAN, los 2 primeros algoritmos que se muestran, son mejores. El HDBSCAN, al igual que el DBSCAN no muestra buenos resultados, tal vez debido a la alta dimensionalidad del dataset."
   ]
  },
  {
   "cell_type": "code",
   "execution_count": null,
   "id": "acb5d491-78a8-4ef1-b561-224df8c2d48b",
   "metadata": {},
   "outputs": [],
   "source": []
  }
 ],
 "metadata": {
  "kernelspec": {
   "display_name": "Python 3 (ipykernel)",
   "language": "python",
   "name": "python3"
  },
  "language_info": {
   "codemirror_mode": {
    "name": "ipython",
    "version": 3
   },
   "file_extension": ".py",
   "mimetype": "text/x-python",
   "name": "python",
   "nbconvert_exporter": "python",
   "pygments_lexer": "ipython3",
   "version": "3.10.9"
  }
 },
 "nbformat": 4,
 "nbformat_minor": 5
}
